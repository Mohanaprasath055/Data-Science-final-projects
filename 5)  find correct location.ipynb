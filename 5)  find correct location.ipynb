{
  "metadata": {
    "kernelspec": {
      "name": "python",
      "display_name": "Python (Pyodide)",
      "language": "python"
    },
    "language_info": {
      "codemirror_mode": {
        "name": "python",
        "version": 3
      },
      "file_extension": ".py",
      "mimetype": "text/x-python",
      "name": "python",
      "nbconvert_exporter": "python",
      "pygments_lexer": "ipython3",
      "version": "3.8"
    }
  },
  "nbformat_minor": 4,
  "nbformat": 4,
  "cells": [
    {
      "cell_type": "markdown",
      "source": "<p style=\"text-align:center\">\n    <a href=\"https://skills.network/?utm_medium=Exinfluencer&utm_source=Exinfluencer&utm_content=000026UJ&utm_term=10006555&utm_id=NA-SkillsNetwork-Channel-SkillsNetworkCoursesIBMDS0321ENSkillsNetwork26802033-2022-01-01\" target=\"_blank\">\n    <img src=\"https://cf-courses-data.s3.us.cloud-object-storage.appdomain.cloud/assets/logos/SN_web_lightmode.png\" width=\"200\" alt=\"Skills Network Logo\"  />\n    </a>\n</p>\n",
      "metadata": {}
    },
    {
      "cell_type": "markdown",
      "source": "# **Launch Sites Locations Analysis with Folium**\n",
      "metadata": {}
    },
    {
      "cell_type": "markdown",
      "source": "Estimated time needed: **40** minutes\n",
      "metadata": {}
    },
    {
      "cell_type": "markdown",
      "source": "The launch success rate may depend on many factors such as payload mass, orbit type, and so on. It may also depend on the location and proximities of a launch site, i.e., the initial position of rocket trajectories. Finding an optimal location for building a launch site certainly involves many factors and hopefully we could discover some of the factors by analyzing the existing launch site locations.\n",
      "metadata": {}
    },
    {
      "cell_type": "markdown",
      "source": "In the previous exploratory data analysis labs, you have visualized the SpaceX launch dataset using `matplotlib` and `seaborn` and discovered some preliminary correlations between the launch site and success rates. In this lab, you will be performing more interactive visual analytics using `Folium`.\n",
      "metadata": {}
    },
    {
      "cell_type": "markdown",
      "source": "## Objectives\n",
      "metadata": {}
    },
    {
      "cell_type": "markdown",
      "source": "This lab contains the following tasks:\n\n*   **TASK 1:** Mark all launch sites on a map\n*   **TASK 2:** Mark the success/failed launches for each site on the map\n*   **TASK 3:** Calculate the distances between a launch site to its proximities\n\nAfter completed the above tasks, you should be able to find some geographical patterns about launch sites.\n",
      "metadata": {}
    },
    {
      "cell_type": "markdown",
      "source": "Let's first import required Python packages for this lab:\n",
      "metadata": {}
    },
    {
      "cell_type": "code",
      "source": "import piplite\nawait piplite.install(['folium'])\nawait piplite.install(['pandas'])",
      "metadata": {
        "trusted": true
      },
      "outputs": [],
      "execution_count": 1
    },
    {
      "cell_type": "code",
      "source": "import folium\nimport pandas as pd",
      "metadata": {
        "trusted": true
      },
      "outputs": [],
      "execution_count": 2
    },
    {
      "cell_type": "code",
      "source": "# Import folium MarkerCluster plugin\nfrom folium.plugins import MarkerCluster\n# Import folium MousePosition plugin\nfrom folium.plugins import MousePosition\n# Import folium DivIcon plugin\nfrom folium.features import DivIcon",
      "metadata": {
        "trusted": true
      },
      "outputs": [],
      "execution_count": 3
    },
    {
      "cell_type": "markdown",
      "source": "If you need to refresh your memory about folium, you may download and refer to this previous folium lab:\n",
      "metadata": {}
    },
    {
      "cell_type": "markdown",
      "source": "[Generating Maps with Python](https://cf-courses-data.s3.us.cloud-object-storage.appdomain.cloud/IBM-DS0321EN-SkillsNetwork/labs/module\\_3/DV0101EN-3-5-1-Generating-Maps-in-Python-py-v2.0.ipynb)\n",
      "metadata": {}
    },
    {
      "cell_type": "code",
      "source": "## Task 1: Mark all launch sites on a map\nm = folium.Map(location=[0,0],zoom_start=2)\nlaunch_sites = {\n    'Cape Canaveral Space Launch Complex 40': [28.562302, -80.577356],\n    'Kennedy Space Center Launch Complex 39A': [28.5733, -80.6469],\n    'Vandenberg Space Launch Complex 4E': [34.6328, -120.6107],\n    'SpaceX South Texas Launch Site': [25.9970, -97.1561]\n}\nfor site_name, site_location in launch_sites.items():\n    folium.Marker(location=site_location, popup=site_name).add_to(m)\nm",
      "metadata": {
        "trusted": true
      },
      "outputs": [
        {
          "execution_count": 4,
          "output_type": "execute_result",
          "data": {
            "text/plain": "<folium.folium.Map at 0x544afd8>",
            "text/html": "<div style=\"width:100%;\"><div style=\"position:relative;width:100%;height:0;padding-bottom:60%;\"><span style=\"color:#565656\">Make this Notebook Trusted to load map: File -> Trust Notebook</span><iframe srcdoc=\"&lt;!DOCTYPE html&gt;\n&lt;html&gt;\n&lt;head&gt;\n    \n    &lt;meta http-equiv=&quot;content-type&quot; content=&quot;text/html; charset=UTF-8&quot; /&gt;\n    \n        &lt;script&gt;\n            L_NO_TOUCH = false;\n            L_DISABLE_3D = false;\n        &lt;/script&gt;\n    \n    &lt;style&gt;html, body {width: 100%;height: 100%;margin: 0;padding: 0;}&lt;/style&gt;\n    &lt;style&gt;#map {position:absolute;top:0;bottom:0;right:0;left:0;}&lt;/style&gt;\n    &lt;script src=&quot;https://cdn.jsdelivr.net/npm/leaflet@1.9.3/dist/leaflet.js&quot;&gt;&lt;/script&gt;\n    &lt;script src=&quot;https://code.jquery.com/jquery-3.7.1.min.js&quot;&gt;&lt;/script&gt;\n    &lt;script src=&quot;https://cdn.jsdelivr.net/npm/bootstrap@5.2.2/dist/js/bootstrap.bundle.min.js&quot;&gt;&lt;/script&gt;\n    &lt;script src=&quot;https://cdnjs.cloudflare.com/ajax/libs/Leaflet.awesome-markers/2.0.2/leaflet.awesome-markers.js&quot;&gt;&lt;/script&gt;\n    &lt;link rel=&quot;stylesheet&quot; href=&quot;https://cdn.jsdelivr.net/npm/leaflet@1.9.3/dist/leaflet.css&quot;/&gt;\n    &lt;link rel=&quot;stylesheet&quot; href=&quot;https://cdn.jsdelivr.net/npm/bootstrap@5.2.2/dist/css/bootstrap.min.css&quot;/&gt;\n    &lt;link rel=&quot;stylesheet&quot; href=&quot;https://netdna.bootstrapcdn.com/bootstrap/3.0.0/css/bootstrap.min.css&quot;/&gt;\n    &lt;link rel=&quot;stylesheet&quot; href=&quot;https://cdn.jsdelivr.net/npm/@fortawesome/fontawesome-free@6.2.0/css/all.min.css&quot;/&gt;\n    &lt;link rel=&quot;stylesheet&quot; href=&quot;https://cdnjs.cloudflare.com/ajax/libs/Leaflet.awesome-markers/2.0.2/leaflet.awesome-markers.css&quot;/&gt;\n    &lt;link rel=&quot;stylesheet&quot; href=&quot;https://cdn.jsdelivr.net/gh/python-visualization/folium/folium/templates/leaflet.awesome.rotate.min.css&quot;/&gt;\n    \n            &lt;meta name=&quot;viewport&quot; content=&quot;width=device-width,\n                initial-scale=1.0, maximum-scale=1.0, user-scalable=no&quot; /&gt;\n            &lt;style&gt;\n                #map_c113c6da48d47adf6565f929c2cbaa82 {\n                    position: relative;\n                    width: 100.0%;\n                    height: 100.0%;\n                    left: 0.0%;\n                    top: 0.0%;\n                }\n                .leaflet-container { font-size: 1rem; }\n            &lt;/style&gt;\n        \n&lt;/head&gt;\n&lt;body&gt;\n    \n    \n            &lt;div class=&quot;folium-map&quot; id=&quot;map_c113c6da48d47adf6565f929c2cbaa82&quot; &gt;&lt;/div&gt;\n        \n&lt;/body&gt;\n&lt;script&gt;\n    \n    \n            var map_c113c6da48d47adf6565f929c2cbaa82 = L.map(\n                &quot;map_c113c6da48d47adf6565f929c2cbaa82&quot;,\n                {\n                    center: [0.0, 0.0],\n                    crs: L.CRS.EPSG3857,\n                    zoom: 2,\n                    zoomControl: true,\n                    preferCanvas: false,\n                }\n            );\n\n            \n\n        \n    \n            var tile_layer_4f8e3c315137330f7f294d4acd6ed09c = L.tileLayer(\n                &quot;https://tile.openstreetmap.org/{z}/{x}/{y}.png&quot;,\n                {&quot;attribution&quot;: &quot;\\u0026copy; \\u003ca href=\\&quot;https://www.openstreetmap.org/copyright\\&quot;\\u003eOpenStreetMap\\u003c/a\\u003e contributors&quot;, &quot;detectRetina&quot;: false, &quot;maxNativeZoom&quot;: 19, &quot;maxZoom&quot;: 19, &quot;minZoom&quot;: 0, &quot;noWrap&quot;: false, &quot;opacity&quot;: 1, &quot;subdomains&quot;: &quot;abc&quot;, &quot;tms&quot;: false}\n            );\n        \n    \n            tile_layer_4f8e3c315137330f7f294d4acd6ed09c.addTo(map_c113c6da48d47adf6565f929c2cbaa82);\n        \n    \n            var marker_a306be12859804a1ce169faaeb9d3c37 = L.marker(\n                [28.562302, -80.577356],\n                {}\n            ).addTo(map_c113c6da48d47adf6565f929c2cbaa82);\n        \n    \n        var popup_dd6fbb62ed69291341a470655cd1d396 = L.popup({&quot;maxWidth&quot;: &quot;100%&quot;});\n\n        \n            \n                var html_459557fe127307b535c322c61632be33 = $(`&lt;div id=&quot;html_459557fe127307b535c322c61632be33&quot; style=&quot;width: 100.0%; height: 100.0%;&quot;&gt;Cape Canaveral Space Launch Complex 40&lt;/div&gt;`)[0];\n                popup_dd6fbb62ed69291341a470655cd1d396.setContent(html_459557fe127307b535c322c61632be33);\n            \n        \n\n        marker_a306be12859804a1ce169faaeb9d3c37.bindPopup(popup_dd6fbb62ed69291341a470655cd1d396)\n        ;\n\n        \n    \n    \n            var marker_25ad6b45bc85eab8a1f713b4a8118c9c = L.marker(\n                [28.5733, -80.6469],\n                {}\n            ).addTo(map_c113c6da48d47adf6565f929c2cbaa82);\n        \n    \n        var popup_db637be8c7d3dc80c8ab2cf08186269c = L.popup({&quot;maxWidth&quot;: &quot;100%&quot;});\n\n        \n            \n                var html_80a56c36d16dd211dddd59c6a3d859a3 = $(`&lt;div id=&quot;html_80a56c36d16dd211dddd59c6a3d859a3&quot; style=&quot;width: 100.0%; height: 100.0%;&quot;&gt;Kennedy Space Center Launch Complex 39A&lt;/div&gt;`)[0];\n                popup_db637be8c7d3dc80c8ab2cf08186269c.setContent(html_80a56c36d16dd211dddd59c6a3d859a3);\n            \n        \n\n        marker_25ad6b45bc85eab8a1f713b4a8118c9c.bindPopup(popup_db637be8c7d3dc80c8ab2cf08186269c)\n        ;\n\n        \n    \n    \n            var marker_0af75dca56577f310af904f1d76ef740 = L.marker(\n                [34.6328, -120.6107],\n                {}\n            ).addTo(map_c113c6da48d47adf6565f929c2cbaa82);\n        \n    \n        var popup_319d053c1b56bad528b30a57f8c21e03 = L.popup({&quot;maxWidth&quot;: &quot;100%&quot;});\n\n        \n            \n                var html_5a5056715ff1aacfd076f96d1241dff5 = $(`&lt;div id=&quot;html_5a5056715ff1aacfd076f96d1241dff5&quot; style=&quot;width: 100.0%; height: 100.0%;&quot;&gt;Vandenberg Space Launch Complex 4E&lt;/div&gt;`)[0];\n                popup_319d053c1b56bad528b30a57f8c21e03.setContent(html_5a5056715ff1aacfd076f96d1241dff5);\n            \n        \n\n        marker_0af75dca56577f310af904f1d76ef740.bindPopup(popup_319d053c1b56bad528b30a57f8c21e03)\n        ;\n\n        \n    \n    \n            var marker_9beaa10edae52eba223579eb6c1e06a3 = L.marker(\n                [25.997, -97.1561],\n                {}\n            ).addTo(map_c113c6da48d47adf6565f929c2cbaa82);\n        \n    \n        var popup_13f6fd89a8633b204f0f7fb2efd7995e = L.popup({&quot;maxWidth&quot;: &quot;100%&quot;});\n\n        \n            \n                var html_1c3f273e4b93d45b8718a72517e3979b = $(`&lt;div id=&quot;html_1c3f273e4b93d45b8718a72517e3979b&quot; style=&quot;width: 100.0%; height: 100.0%;&quot;&gt;SpaceX South Texas Launch Site&lt;/div&gt;`)[0];\n                popup_13f6fd89a8633b204f0f7fb2efd7995e.setContent(html_1c3f273e4b93d45b8718a72517e3979b);\n            \n        \n\n        marker_9beaa10edae52eba223579eb6c1e06a3.bindPopup(popup_13f6fd89a8633b204f0f7fb2efd7995e)\n        ;\n\n        \n    \n&lt;/script&gt;\n&lt;/html&gt;\" style=\"position:absolute;width:100%;height:100%;left:0;top:0;border:none !important;\" allowfullscreen webkitallowfullscreen mozallowfullscreen></iframe></div></div>"
          },
          "metadata": {}
        }
      ],
      "execution_count": 4
    },
    {
      "cell_type": "markdown",
      "source": "First, let's try to add each site's location on a map using site's latitude and longitude coordinates\n",
      "metadata": {}
    },
    {
      "cell_type": "markdown",
      "source": "The following dataset with the name `spacex_launch_geo.csv` is an augmented dataset with latitude and longitude added for each site.\n",
      "metadata": {}
    },
    {
      "cell_type": "code",
      "source": "# Download and read the `spacex_launch_geo.csv`\nfrom js import fetch\nimport io\n\nURL = 'https://cf-courses-data.s3.us.cloud-object-storage.appdomain.cloud/IBM-DS0321EN-SkillsNetwork/datasets/spacex_launch_geo.csv'\nresp = await fetch(URL)\nspacex_csv_file = io.BytesIO((await resp.arrayBuffer()).to_py())\nspacex_df=pd.read_csv(spacex_csv_file)",
      "metadata": {
        "trusted": true
      },
      "outputs": [],
      "execution_count": 5
    },
    {
      "cell_type": "markdown",
      "source": "Now, you can take a look at what are the coordinates for each site.\n",
      "metadata": {}
    },
    {
      "cell_type": "code",
      "source": "# Select relevant sub-columns: `Launch Site`, `Lat(Latitude)`, `Long(Longitude)`, `class`\nspacex_df = spacex_df[['Launch Site', 'Lat', 'Long', 'class']]\nlaunch_sites_df = spacex_df.groupby(['Launch Site'], as_index=False).first()\nlaunch_sites_df = launch_sites_df[['Launch Site', 'Lat', 'Long']]\nlaunch_sites_df",
      "metadata": {
        "trusted": true
      },
      "outputs": [
        {
          "execution_count": 6,
          "output_type": "execute_result",
          "data": {
            "text/plain": "    Launch Site        Lat        Long\n0   CCAFS LC-40  28.562302  -80.577356\n1  CCAFS SLC-40  28.563197  -80.576820\n2    KSC LC-39A  28.573255  -80.646895\n3   VAFB SLC-4E  34.632834 -120.610745",
            "text/html": "<div>\n<style scoped>\n    .dataframe tbody tr th:only-of-type {\n        vertical-align: middle;\n    }\n\n    .dataframe tbody tr th {\n        vertical-align: top;\n    }\n\n    .dataframe thead th {\n        text-align: right;\n    }\n</style>\n<table border=\"1\" class=\"dataframe\">\n  <thead>\n    <tr style=\"text-align: right;\">\n      <th></th>\n      <th>Launch Site</th>\n      <th>Lat</th>\n      <th>Long</th>\n    </tr>\n  </thead>\n  <tbody>\n    <tr>\n      <th>0</th>\n      <td>CCAFS LC-40</td>\n      <td>28.562302</td>\n      <td>-80.577356</td>\n    </tr>\n    <tr>\n      <th>1</th>\n      <td>CCAFS SLC-40</td>\n      <td>28.563197</td>\n      <td>-80.576820</td>\n    </tr>\n    <tr>\n      <th>2</th>\n      <td>KSC LC-39A</td>\n      <td>28.573255</td>\n      <td>-80.646895</td>\n    </tr>\n    <tr>\n      <th>3</th>\n      <td>VAFB SLC-4E</td>\n      <td>34.632834</td>\n      <td>-120.610745</td>\n    </tr>\n  </tbody>\n</table>\n</div>"
          },
          "metadata": {}
        }
      ],
      "execution_count": 6
    },
    {
      "cell_type": "markdown",
      "source": "Above coordinates are just plain numbers that can not give you any intuitive insights about where are those launch sites. If you are very good at geography, you can interpret those numbers directly in your mind. If not, that's fine too. Let's visualize those locations by pinning them on a map.\n",
      "metadata": {}
    },
    {
      "cell_type": "markdown",
      "source": "We first need to create a folium `Map` object, with an initial center location to be NASA Johnson Space Center at Houston, Texas.\n",
      "metadata": {}
    },
    {
      "cell_type": "code",
      "source": "# Start location is NASA Johnson Space Center\nnasa_coordinate = [29.559684888503615, -95.0830971930759]\nsite_map = folium.Map(location=nasa_coordinate, zoom_start=10)",
      "metadata": {
        "trusted": true
      },
      "outputs": [],
      "execution_count": 7
    },
    {
      "cell_type": "markdown",
      "source": "We could use `folium.Circle` to add a highlighted circle area with a text label on a specific coordinate. For example,\n",
      "metadata": {}
    },
    {
      "cell_type": "code",
      "source": "# Create a blue circle at NASA Johnson Space Center's coordinate with a popup label showing its name\ncircle = folium.Circle(nasa_coordinate, radius=1000, color='#d35400', fill=True).add_child(folium.Popup('NASA Johnson Space Center'))\n# Create a blue circle at NASA Johnson Space Center's coordinate with a icon showing its name\nmarker = folium.map.Marker(\n    nasa_coordinate,\n    # Create an icon as a text label\n    icon=DivIcon(\n        icon_size=(20,20),\n        icon_anchor=(0,0),\n        html='<div style=\"font-size: 12; color:#d35400;\"><b>%s</b></div>' % 'NASA JSC',\n        )\n    )\nsite_map.add_child(circle)\nsite_map.add_child(marker)",
      "metadata": {
        "trusted": true
      },
      "outputs": [
        {
          "execution_count": 8,
          "output_type": "execute_result",
          "data": {
            "text/plain": "<folium.folium.Map at 0x4ccc088>",
            "text/html": "<div style=\"width:100%;\"><div style=\"position:relative;width:100%;height:0;padding-bottom:60%;\"><span style=\"color:#565656\">Make this Notebook Trusted to load map: File -> Trust Notebook</span><iframe srcdoc=\"&lt;!DOCTYPE html&gt;\n&lt;html&gt;\n&lt;head&gt;\n    \n    &lt;meta http-equiv=&quot;content-type&quot; content=&quot;text/html; charset=UTF-8&quot; /&gt;\n    \n        &lt;script&gt;\n            L_NO_TOUCH = false;\n            L_DISABLE_3D = false;\n        &lt;/script&gt;\n    \n    &lt;style&gt;html, body {width: 100%;height: 100%;margin: 0;padding: 0;}&lt;/style&gt;\n    &lt;style&gt;#map {position:absolute;top:0;bottom:0;right:0;left:0;}&lt;/style&gt;\n    &lt;script src=&quot;https://cdn.jsdelivr.net/npm/leaflet@1.9.3/dist/leaflet.js&quot;&gt;&lt;/script&gt;\n    &lt;script src=&quot;https://code.jquery.com/jquery-3.7.1.min.js&quot;&gt;&lt;/script&gt;\n    &lt;script src=&quot;https://cdn.jsdelivr.net/npm/bootstrap@5.2.2/dist/js/bootstrap.bundle.min.js&quot;&gt;&lt;/script&gt;\n    &lt;script src=&quot;https://cdnjs.cloudflare.com/ajax/libs/Leaflet.awesome-markers/2.0.2/leaflet.awesome-markers.js&quot;&gt;&lt;/script&gt;\n    &lt;link rel=&quot;stylesheet&quot; href=&quot;https://cdn.jsdelivr.net/npm/leaflet@1.9.3/dist/leaflet.css&quot;/&gt;\n    &lt;link rel=&quot;stylesheet&quot; href=&quot;https://cdn.jsdelivr.net/npm/bootstrap@5.2.2/dist/css/bootstrap.min.css&quot;/&gt;\n    &lt;link rel=&quot;stylesheet&quot; href=&quot;https://netdna.bootstrapcdn.com/bootstrap/3.0.0/css/bootstrap.min.css&quot;/&gt;\n    &lt;link rel=&quot;stylesheet&quot; href=&quot;https://cdn.jsdelivr.net/npm/@fortawesome/fontawesome-free@6.2.0/css/all.min.css&quot;/&gt;\n    &lt;link rel=&quot;stylesheet&quot; href=&quot;https://cdnjs.cloudflare.com/ajax/libs/Leaflet.awesome-markers/2.0.2/leaflet.awesome-markers.css&quot;/&gt;\n    &lt;link rel=&quot;stylesheet&quot; href=&quot;https://cdn.jsdelivr.net/gh/python-visualization/folium/folium/templates/leaflet.awesome.rotate.min.css&quot;/&gt;\n    \n            &lt;meta name=&quot;viewport&quot; content=&quot;width=device-width,\n                initial-scale=1.0, maximum-scale=1.0, user-scalable=no&quot; /&gt;\n            &lt;style&gt;\n                #map_e0d8d967ce1b4451815a3dd84fe67995 {\n                    position: relative;\n                    width: 100.0%;\n                    height: 100.0%;\n                    left: 0.0%;\n                    top: 0.0%;\n                }\n                .leaflet-container { font-size: 1rem; }\n            &lt;/style&gt;\n        \n&lt;/head&gt;\n&lt;body&gt;\n    \n    \n            &lt;div class=&quot;folium-map&quot; id=&quot;map_e0d8d967ce1b4451815a3dd84fe67995&quot; &gt;&lt;/div&gt;\n        \n&lt;/body&gt;\n&lt;script&gt;\n    \n    \n            var map_e0d8d967ce1b4451815a3dd84fe67995 = L.map(\n                &quot;map_e0d8d967ce1b4451815a3dd84fe67995&quot;,\n                {\n                    center: [29.559684888503615, -95.0830971930759],\n                    crs: L.CRS.EPSG3857,\n                    zoom: 10,\n                    zoomControl: true,\n                    preferCanvas: false,\n                }\n            );\n\n            \n\n        \n    \n            var tile_layer_93c18e999eb5e85583606d38428de6c2 = L.tileLayer(\n                &quot;https://tile.openstreetmap.org/{z}/{x}/{y}.png&quot;,\n                {&quot;attribution&quot;: &quot;\\u0026copy; \\u003ca href=\\&quot;https://www.openstreetmap.org/copyright\\&quot;\\u003eOpenStreetMap\\u003c/a\\u003e contributors&quot;, &quot;detectRetina&quot;: false, &quot;maxNativeZoom&quot;: 19, &quot;maxZoom&quot;: 19, &quot;minZoom&quot;: 0, &quot;noWrap&quot;: false, &quot;opacity&quot;: 1, &quot;subdomains&quot;: &quot;abc&quot;, &quot;tms&quot;: false}\n            );\n        \n    \n            tile_layer_93c18e999eb5e85583606d38428de6c2.addTo(map_e0d8d967ce1b4451815a3dd84fe67995);\n        \n    \n            var circle_b7ce12d9219dd951939767c9bc7b452f = L.circle(\n                [29.559684888503615, -95.0830971930759],\n                {&quot;bubblingMouseEvents&quot;: true, &quot;color&quot;: &quot;#d35400&quot;, &quot;dashArray&quot;: null, &quot;dashOffset&quot;: null, &quot;fill&quot;: true, &quot;fillColor&quot;: &quot;#d35400&quot;, &quot;fillOpacity&quot;: 0.2, &quot;fillRule&quot;: &quot;evenodd&quot;, &quot;lineCap&quot;: &quot;round&quot;, &quot;lineJoin&quot;: &quot;round&quot;, &quot;opacity&quot;: 1.0, &quot;radius&quot;: 1000, &quot;stroke&quot;: true, &quot;weight&quot;: 3}\n            ).addTo(map_e0d8d967ce1b4451815a3dd84fe67995);\n        \n    \n        var popup_9b930872a6f04b225c989bd6a82e9802 = L.popup({&quot;maxWidth&quot;: &quot;100%&quot;});\n\n        \n            \n                var html_44bc4802c4a4bcc707d028be8006a95f = $(`&lt;div id=&quot;html_44bc4802c4a4bcc707d028be8006a95f&quot; style=&quot;width: 100.0%; height: 100.0%;&quot;&gt;NASA Johnson Space Center&lt;/div&gt;`)[0];\n                popup_9b930872a6f04b225c989bd6a82e9802.setContent(html_44bc4802c4a4bcc707d028be8006a95f);\n            \n        \n\n        circle_b7ce12d9219dd951939767c9bc7b452f.bindPopup(popup_9b930872a6f04b225c989bd6a82e9802)\n        ;\n\n        \n    \n    \n            var marker_80d3ef00b9d1d7eabd187434817ad2fc = L.marker(\n                [29.559684888503615, -95.0830971930759],\n                {}\n            ).addTo(map_e0d8d967ce1b4451815a3dd84fe67995);\n        \n    \n            var div_icon_db3eb32f0daeabc98861b677c692ba69 = L.divIcon({&quot;className&quot;: &quot;empty&quot;, &quot;html&quot;: &quot;\\u003cdiv style=\\&quot;font-size: 12; color:#d35400;\\&quot;\\u003e\\u003cb\\u003eNASA JSC\\u003c/b\\u003e\\u003c/div\\u003e&quot;, &quot;iconAnchor&quot;: [0, 0], &quot;iconSize&quot;: [20, 20]});\n            marker_80d3ef00b9d1d7eabd187434817ad2fc.setIcon(div_icon_db3eb32f0daeabc98861b677c692ba69);\n        \n&lt;/script&gt;\n&lt;/html&gt;\" style=\"position:absolute;width:100%;height:100%;left:0;top:0;border:none !important;\" allowfullscreen webkitallowfullscreen mozallowfullscreen></iframe></div></div>"
          },
          "metadata": {}
        }
      ],
      "execution_count": 8
    },
    {
      "cell_type": "markdown",
      "source": "and you should find a small yellow circle near the city of Houston and you can zoom-in to see a larger circle.\n",
      "metadata": {}
    },
    {
      "cell_type": "markdown",
      "source": "Now, let's add a circle for each launch site in data frame `launch_sites`\n",
      "metadata": {}
    },
    {
      "cell_type": "markdown",
      "source": "*TODO:*  Create and add `folium.Circle` and `folium.Marker` for each launch site on the site map\n",
      "metadata": {}
    },
    {
      "cell_type": "markdown",
      "source": "An example of folium.Circle:\n",
      "metadata": {}
    },
    {
      "cell_type": "markdown",
      "source": "`folium.Circle(coordinate, radius=1000, color='#000000', fill=True).add_child(folium.Popup(...))`\n",
      "metadata": {}
    },
    {
      "cell_type": "markdown",
      "source": "An example of folium.Marker:\n",
      "metadata": {}
    },
    {
      "cell_type": "markdown",
      "source": "`folium.map.Marker(coordinate, icon=DivIcon(icon_size=(20,20),icon_anchor=(0,0), html='<div style=\"font-size: 12; color:#d35400;\"><b>%s</b></div>' % 'label', ))`\n",
      "metadata": {}
    },
    {
      "cell_type": "code",
      "source": "# Initial the map\nsite_map = folium.Map(location=nasa_coordinate, zoom_start=5)\n# For each launch site, add a Circle object based on its coordinate (Lat, Long) values. In addition, add Launch site name as a popup label\nfor index, site in launch_sites_df.iterrows():\n    site_coordinate = [site['Lat'], site['Long']]\ncircle = folium.Circle(site_coordinate, radius=1000, color='#000000', fill=True).add_child(folium.Popup(site['Launch Site']))\nmarker = folium.map.Marker(site_coordinate,icon=DivIcon(icon_size=(20,20),icon_anchor=(0,0), html='<div style=\"font-size: 12; color:#d35400;\"><b>%s</b></div>' % 'label', ))\n'''site_map.add_child(circle)\nsite_map.add_child(marker)\nsite_map'''",
      "metadata": {
        "trusted": true
      },
      "outputs": [
        {
          "execution_count": 16,
          "output_type": "execute_result",
          "data": {
            "text/plain": "'site_map.add_child(circle)\\nsite_map.add_child(marker)\\nsite_map'"
          },
          "metadata": {}
        }
      ],
      "execution_count": 16
    },
    {
      "cell_type": "markdown",
      "source": "The generated map with marked launch sites should look similar to the following:\n",
      "metadata": {}
    },
    {
      "cell_type": "markdown",
      "source": "<center>\n    <img src=\"https://cf-courses-data.s3.us.cloud-object-storage.appdomain.cloud/IBM-DS0321EN-SkillsNetwork/labs/module_3/images/launch_site_markers.png\">\n</center>\n",
      "metadata": {}
    },
    {
      "cell_type": "markdown",
      "source": "Now, you can explore the map by zoom-in/out the marked areas\n, and try to answer the following questions:\n\n*   Are all launch sites in proximity to the Equator line?\n*   Are all launch sites in very close proximity to the coast?\n\nAlso please try to explain your findings.\n",
      "metadata": {}
    },
    {
      "cell_type": "code",
      "source": "# Task 2: Mark the success/failed launches for each site on the map\n# Filter successful and failed launches\nsuccessful_launches = spacex_df[spacex_df['class'] == 1]\nfailed_launches = spacex_df[spacex_df['class'] == 0]\n\n# Create map objects for successful and failed launches\nsuccess_map = folium.Map(location=nasa_coordinate, zoom_start=5)\nfailure_map = folium.Map(location=nasa_coordinate, zoom_start=5)\n\n# Add markers for successful launches\nfor index, launch in successful_launches.iterrows():\n    marker = folium.Marker(\n        [launch['Lat'], launch['Long']],\n        icon=folium.Icon(color='green'),\n        popup=f\"Launch Site: {launch['Launch Site']}, Result: Successful\"\n    )\n    success_map.add_child(marker)\n\n# Add markers for failed launches\nfor index, launch in failed_launches.iterrows():\n    marker = folium.Marker(\n        [launch['Lat'], launch['Long']],\n        icon=folium.Icon(color='red'),\n        popup=f\"Launch Site: {launch['Launch Site']}, Result: Failed\"\n    )\n    failure_map.add_child(marker)\n\n# Display the maps\nsuccess_map\nfailure_map\n",
      "metadata": {
        "trusted": true
      },
      "outputs": [
        {
          "execution_count": 17,
          "output_type": "execute_result",
          "data": {
            "text/plain": "<folium.folium.Map at 0x59086e0>",
            "text/html": "<div style=\"width:100%;\"><div style=\"position:relative;width:100%;height:0;padding-bottom:60%;\"><span style=\"color:#565656\">Make this Notebook Trusted to load map: File -> Trust Notebook</span><iframe srcdoc=\"&lt;!DOCTYPE html&gt;\n&lt;html&gt;\n&lt;head&gt;\n    \n    &lt;meta http-equiv=&quot;content-type&quot; content=&quot;text/html; charset=UTF-8&quot; /&gt;\n    \n        &lt;script&gt;\n            L_NO_TOUCH = false;\n            L_DISABLE_3D = false;\n        &lt;/script&gt;\n    \n    &lt;style&gt;html, body {width: 100%;height: 100%;margin: 0;padding: 0;}&lt;/style&gt;\n    &lt;style&gt;#map {position:absolute;top:0;bottom:0;right:0;left:0;}&lt;/style&gt;\n    &lt;script src=&quot;https://cdn.jsdelivr.net/npm/leaflet@1.9.3/dist/leaflet.js&quot;&gt;&lt;/script&gt;\n    &lt;script src=&quot;https://code.jquery.com/jquery-3.7.1.min.js&quot;&gt;&lt;/script&gt;\n    &lt;script src=&quot;https://cdn.jsdelivr.net/npm/bootstrap@5.2.2/dist/js/bootstrap.bundle.min.js&quot;&gt;&lt;/script&gt;\n    &lt;script src=&quot;https://cdnjs.cloudflare.com/ajax/libs/Leaflet.awesome-markers/2.0.2/leaflet.awesome-markers.js&quot;&gt;&lt;/script&gt;\n    &lt;link rel=&quot;stylesheet&quot; href=&quot;https://cdn.jsdelivr.net/npm/leaflet@1.9.3/dist/leaflet.css&quot;/&gt;\n    &lt;link rel=&quot;stylesheet&quot; href=&quot;https://cdn.jsdelivr.net/npm/bootstrap@5.2.2/dist/css/bootstrap.min.css&quot;/&gt;\n    &lt;link rel=&quot;stylesheet&quot; href=&quot;https://netdna.bootstrapcdn.com/bootstrap/3.0.0/css/bootstrap.min.css&quot;/&gt;\n    &lt;link rel=&quot;stylesheet&quot; href=&quot;https://cdn.jsdelivr.net/npm/@fortawesome/fontawesome-free@6.2.0/css/all.min.css&quot;/&gt;\n    &lt;link rel=&quot;stylesheet&quot; href=&quot;https://cdnjs.cloudflare.com/ajax/libs/Leaflet.awesome-markers/2.0.2/leaflet.awesome-markers.css&quot;/&gt;\n    &lt;link rel=&quot;stylesheet&quot; href=&quot;https://cdn.jsdelivr.net/gh/python-visualization/folium/folium/templates/leaflet.awesome.rotate.min.css&quot;/&gt;\n    \n            &lt;meta name=&quot;viewport&quot; content=&quot;width=device-width,\n                initial-scale=1.0, maximum-scale=1.0, user-scalable=no&quot; /&gt;\n            &lt;style&gt;\n                #map_f830048241263be005087c2f74a1ce4c {\n                    position: relative;\n                    width: 100.0%;\n                    height: 100.0%;\n                    left: 0.0%;\n                    top: 0.0%;\n                }\n                .leaflet-container { font-size: 1rem; }\n            &lt;/style&gt;\n        \n&lt;/head&gt;\n&lt;body&gt;\n    \n    \n            &lt;div class=&quot;folium-map&quot; id=&quot;map_f830048241263be005087c2f74a1ce4c&quot; &gt;&lt;/div&gt;\n        \n&lt;/body&gt;\n&lt;script&gt;\n    \n    \n            var map_f830048241263be005087c2f74a1ce4c = L.map(\n                &quot;map_f830048241263be005087c2f74a1ce4c&quot;,\n                {\n                    center: [29.559684888503615, -95.0830971930759],\n                    crs: L.CRS.EPSG3857,\n                    zoom: 5,\n                    zoomControl: true,\n                    preferCanvas: false,\n                }\n            );\n\n            \n\n        \n    \n            var tile_layer_abce96fef10dcde4ba62c16fa820c37b = L.tileLayer(\n                &quot;https://tile.openstreetmap.org/{z}/{x}/{y}.png&quot;,\n                {&quot;attribution&quot;: &quot;\\u0026copy; \\u003ca href=\\&quot;https://www.openstreetmap.org/copyright\\&quot;\\u003eOpenStreetMap\\u003c/a\\u003e contributors&quot;, &quot;detectRetina&quot;: false, &quot;maxNativeZoom&quot;: 19, &quot;maxZoom&quot;: 19, &quot;minZoom&quot;: 0, &quot;noWrap&quot;: false, &quot;opacity&quot;: 1, &quot;subdomains&quot;: &quot;abc&quot;, &quot;tms&quot;: false}\n            );\n        \n    \n            tile_layer_abce96fef10dcde4ba62c16fa820c37b.addTo(map_f830048241263be005087c2f74a1ce4c);\n        \n    \n            var marker_8a97bceff34789e88ca38b5783f6b4c1 = L.marker(\n                [28.56230197, -80.57735648],\n                {}\n            ).addTo(map_f830048241263be005087c2f74a1ce4c);\n        \n    \n            var icon_70383c27ae3a73a1885a743c7cec9401 = L.AwesomeMarkers.icon(\n                {&quot;extraClasses&quot;: &quot;fa-rotate-0&quot;, &quot;icon&quot;: &quot;info-sign&quot;, &quot;iconColor&quot;: &quot;white&quot;, &quot;markerColor&quot;: &quot;red&quot;, &quot;prefix&quot;: &quot;glyphicon&quot;}\n            );\n            marker_8a97bceff34789e88ca38b5783f6b4c1.setIcon(icon_70383c27ae3a73a1885a743c7cec9401);\n        \n    \n        var popup_aff0662f5fdec75b18664f7d121d065c = L.popup({&quot;maxWidth&quot;: &quot;100%&quot;});\n\n        \n            \n                var html_9d5ea1a00272e8ebf64c0e6b58bf73da = $(`&lt;div id=&quot;html_9d5ea1a00272e8ebf64c0e6b58bf73da&quot; style=&quot;width: 100.0%; height: 100.0%;&quot;&gt;Launch Site: CCAFS LC-40, Result: Failed&lt;/div&gt;`)[0];\n                popup_aff0662f5fdec75b18664f7d121d065c.setContent(html_9d5ea1a00272e8ebf64c0e6b58bf73da);\n            \n        \n\n        marker_8a97bceff34789e88ca38b5783f6b4c1.bindPopup(popup_aff0662f5fdec75b18664f7d121d065c)\n        ;\n\n        \n    \n    \n            var marker_124daf15c60366dbb5359905cc4261c2 = L.marker(\n                [28.56230197, -80.57735648],\n                {}\n            ).addTo(map_f830048241263be005087c2f74a1ce4c);\n        \n    \n            var icon_a0301e89f1c53aa8e344e4a0c3e82add = L.AwesomeMarkers.icon(\n                {&quot;extraClasses&quot;: &quot;fa-rotate-0&quot;, &quot;icon&quot;: &quot;info-sign&quot;, &quot;iconColor&quot;: &quot;white&quot;, &quot;markerColor&quot;: &quot;red&quot;, &quot;prefix&quot;: &quot;glyphicon&quot;}\n            );\n            marker_124daf15c60366dbb5359905cc4261c2.setIcon(icon_a0301e89f1c53aa8e344e4a0c3e82add);\n        \n    \n        var popup_f370cb2662e676e0418f0ee0f2b7f294 = L.popup({&quot;maxWidth&quot;: &quot;100%&quot;});\n\n        \n            \n                var html_d6ff7a95264d0215dee68ec4502b2e37 = $(`&lt;div id=&quot;html_d6ff7a95264d0215dee68ec4502b2e37&quot; style=&quot;width: 100.0%; height: 100.0%;&quot;&gt;Launch Site: CCAFS LC-40, Result: Failed&lt;/div&gt;`)[0];\n                popup_f370cb2662e676e0418f0ee0f2b7f294.setContent(html_d6ff7a95264d0215dee68ec4502b2e37);\n            \n        \n\n        marker_124daf15c60366dbb5359905cc4261c2.bindPopup(popup_f370cb2662e676e0418f0ee0f2b7f294)\n        ;\n\n        \n    \n    \n            var marker_f269980fa65061bf735de2d1c16073f0 = L.marker(\n                [28.56230197, -80.57735648],\n                {}\n            ).addTo(map_f830048241263be005087c2f74a1ce4c);\n        \n    \n            var icon_57d3f27be40e05e09acb3defbfc733b7 = L.AwesomeMarkers.icon(\n                {&quot;extraClasses&quot;: &quot;fa-rotate-0&quot;, &quot;icon&quot;: &quot;info-sign&quot;, &quot;iconColor&quot;: &quot;white&quot;, &quot;markerColor&quot;: &quot;red&quot;, &quot;prefix&quot;: &quot;glyphicon&quot;}\n            );\n            marker_f269980fa65061bf735de2d1c16073f0.setIcon(icon_57d3f27be40e05e09acb3defbfc733b7);\n        \n    \n        var popup_c509eb1be5ed82ba95459a74bf28ab89 = L.popup({&quot;maxWidth&quot;: &quot;100%&quot;});\n\n        \n            \n                var html_c198e18d32e6230fea192a17aeeec7c9 = $(`&lt;div id=&quot;html_c198e18d32e6230fea192a17aeeec7c9&quot; style=&quot;width: 100.0%; height: 100.0%;&quot;&gt;Launch Site: CCAFS LC-40, Result: Failed&lt;/div&gt;`)[0];\n                popup_c509eb1be5ed82ba95459a74bf28ab89.setContent(html_c198e18d32e6230fea192a17aeeec7c9);\n            \n        \n\n        marker_f269980fa65061bf735de2d1c16073f0.bindPopup(popup_c509eb1be5ed82ba95459a74bf28ab89)\n        ;\n\n        \n    \n    \n            var marker_70c31c88e569afb8b6473141d49fdd74 = L.marker(\n                [28.56230197, -80.57735648],\n                {}\n            ).addTo(map_f830048241263be005087c2f74a1ce4c);\n        \n    \n            var icon_52434381c3d1f5badf7db7dd3b6369ef = L.AwesomeMarkers.icon(\n                {&quot;extraClasses&quot;: &quot;fa-rotate-0&quot;, &quot;icon&quot;: &quot;info-sign&quot;, &quot;iconColor&quot;: &quot;white&quot;, &quot;markerColor&quot;: &quot;red&quot;, &quot;prefix&quot;: &quot;glyphicon&quot;}\n            );\n            marker_70c31c88e569afb8b6473141d49fdd74.setIcon(icon_52434381c3d1f5badf7db7dd3b6369ef);\n        \n    \n        var popup_cb7727c0c81db1f37b1a05a00571a9a1 = L.popup({&quot;maxWidth&quot;: &quot;100%&quot;});\n\n        \n            \n                var html_4c345b9a812c82044ffd92d2c36c0cad = $(`&lt;div id=&quot;html_4c345b9a812c82044ffd92d2c36c0cad&quot; style=&quot;width: 100.0%; height: 100.0%;&quot;&gt;Launch Site: CCAFS LC-40, Result: Failed&lt;/div&gt;`)[0];\n                popup_cb7727c0c81db1f37b1a05a00571a9a1.setContent(html_4c345b9a812c82044ffd92d2c36c0cad);\n            \n        \n\n        marker_70c31c88e569afb8b6473141d49fdd74.bindPopup(popup_cb7727c0c81db1f37b1a05a00571a9a1)\n        ;\n\n        \n    \n    \n            var marker_49006ec084f8fd3e607416967d1ac7de = L.marker(\n                [28.56230197, -80.57735648],\n                {}\n            ).addTo(map_f830048241263be005087c2f74a1ce4c);\n        \n    \n            var icon_c9369ad36315f7bc30d5471de27b0993 = L.AwesomeMarkers.icon(\n                {&quot;extraClasses&quot;: &quot;fa-rotate-0&quot;, &quot;icon&quot;: &quot;info-sign&quot;, &quot;iconColor&quot;: &quot;white&quot;, &quot;markerColor&quot;: &quot;red&quot;, &quot;prefix&quot;: &quot;glyphicon&quot;}\n            );\n            marker_49006ec084f8fd3e607416967d1ac7de.setIcon(icon_c9369ad36315f7bc30d5471de27b0993);\n        \n    \n        var popup_f6c8d8f4d848154ffec44e11c2fd1180 = L.popup({&quot;maxWidth&quot;: &quot;100%&quot;});\n\n        \n            \n                var html_a1f86768c1c6b82f65a4ab29db5e78cd = $(`&lt;div id=&quot;html_a1f86768c1c6b82f65a4ab29db5e78cd&quot; style=&quot;width: 100.0%; height: 100.0%;&quot;&gt;Launch Site: CCAFS LC-40, Result: Failed&lt;/div&gt;`)[0];\n                popup_f6c8d8f4d848154ffec44e11c2fd1180.setContent(html_a1f86768c1c6b82f65a4ab29db5e78cd);\n            \n        \n\n        marker_49006ec084f8fd3e607416967d1ac7de.bindPopup(popup_f6c8d8f4d848154ffec44e11c2fd1180)\n        ;\n\n        \n    \n    \n            var marker_75b09c07f6ebf0c4f887cf4ed8798f44 = L.marker(\n                [28.56230197, -80.57735648],\n                {}\n            ).addTo(map_f830048241263be005087c2f74a1ce4c);\n        \n    \n            var icon_13b06d29700ca1db19e0c6927c58df87 = L.AwesomeMarkers.icon(\n                {&quot;extraClasses&quot;: &quot;fa-rotate-0&quot;, &quot;icon&quot;: &quot;info-sign&quot;, &quot;iconColor&quot;: &quot;white&quot;, &quot;markerColor&quot;: &quot;red&quot;, &quot;prefix&quot;: &quot;glyphicon&quot;}\n            );\n            marker_75b09c07f6ebf0c4f887cf4ed8798f44.setIcon(icon_13b06d29700ca1db19e0c6927c58df87);\n        \n    \n        var popup_9584ceed9831186b88f9a33fecefdeac = L.popup({&quot;maxWidth&quot;: &quot;100%&quot;});\n\n        \n            \n                var html_3eaec7b3ad5e3fe7887e50c709802855 = $(`&lt;div id=&quot;html_3eaec7b3ad5e3fe7887e50c709802855&quot; style=&quot;width: 100.0%; height: 100.0%;&quot;&gt;Launch Site: CCAFS LC-40, Result: Failed&lt;/div&gt;`)[0];\n                popup_9584ceed9831186b88f9a33fecefdeac.setContent(html_3eaec7b3ad5e3fe7887e50c709802855);\n            \n        \n\n        marker_75b09c07f6ebf0c4f887cf4ed8798f44.bindPopup(popup_9584ceed9831186b88f9a33fecefdeac)\n        ;\n\n        \n    \n    \n            var marker_bcff309b5eb2b5b51acf9818b71f1393 = L.marker(\n                [28.56230197, -80.57735648],\n                {}\n            ).addTo(map_f830048241263be005087c2f74a1ce4c);\n        \n    \n            var icon_d853825b6eeff428f34f0905d608bc33 = L.AwesomeMarkers.icon(\n                {&quot;extraClasses&quot;: &quot;fa-rotate-0&quot;, &quot;icon&quot;: &quot;info-sign&quot;, &quot;iconColor&quot;: &quot;white&quot;, &quot;markerColor&quot;: &quot;red&quot;, &quot;prefix&quot;: &quot;glyphicon&quot;}\n            );\n            marker_bcff309b5eb2b5b51acf9818b71f1393.setIcon(icon_d853825b6eeff428f34f0905d608bc33);\n        \n    \n        var popup_944f23df18029ebaab25a25076f06287 = L.popup({&quot;maxWidth&quot;: &quot;100%&quot;});\n\n        \n            \n                var html_15ddc4e5fc259f064e51fcff069ee3e8 = $(`&lt;div id=&quot;html_15ddc4e5fc259f064e51fcff069ee3e8&quot; style=&quot;width: 100.0%; height: 100.0%;&quot;&gt;Launch Site: CCAFS LC-40, Result: Failed&lt;/div&gt;`)[0];\n                popup_944f23df18029ebaab25a25076f06287.setContent(html_15ddc4e5fc259f064e51fcff069ee3e8);\n            \n        \n\n        marker_bcff309b5eb2b5b51acf9818b71f1393.bindPopup(popup_944f23df18029ebaab25a25076f06287)\n        ;\n\n        \n    \n    \n            var marker_4e07589c59e1f9a9847bd097d5b85c45 = L.marker(\n                [28.56230197, -80.57735648],\n                {}\n            ).addTo(map_f830048241263be005087c2f74a1ce4c);\n        \n    \n            var icon_382c8dd2d81253b286e9bb7004675199 = L.AwesomeMarkers.icon(\n                {&quot;extraClasses&quot;: &quot;fa-rotate-0&quot;, &quot;icon&quot;: &quot;info-sign&quot;, &quot;iconColor&quot;: &quot;white&quot;, &quot;markerColor&quot;: &quot;red&quot;, &quot;prefix&quot;: &quot;glyphicon&quot;}\n            );\n            marker_4e07589c59e1f9a9847bd097d5b85c45.setIcon(icon_382c8dd2d81253b286e9bb7004675199);\n        \n    \n        var popup_05809815cec718c13eb357317484a45c = L.popup({&quot;maxWidth&quot;: &quot;100%&quot;});\n\n        \n            \n                var html_0c20a1db07559cc578d05493723d3745 = $(`&lt;div id=&quot;html_0c20a1db07559cc578d05493723d3745&quot; style=&quot;width: 100.0%; height: 100.0%;&quot;&gt;Launch Site: CCAFS LC-40, Result: Failed&lt;/div&gt;`)[0];\n                popup_05809815cec718c13eb357317484a45c.setContent(html_0c20a1db07559cc578d05493723d3745);\n            \n        \n\n        marker_4e07589c59e1f9a9847bd097d5b85c45.bindPopup(popup_05809815cec718c13eb357317484a45c)\n        ;\n\n        \n    \n    \n            var marker_a418f07db023881377e4212039720312 = L.marker(\n                [28.56230197, -80.57735648],\n                {}\n            ).addTo(map_f830048241263be005087c2f74a1ce4c);\n        \n    \n            var icon_e071f5ee7c9727606079e4c22d816375 = L.AwesomeMarkers.icon(\n                {&quot;extraClasses&quot;: &quot;fa-rotate-0&quot;, &quot;icon&quot;: &quot;info-sign&quot;, &quot;iconColor&quot;: &quot;white&quot;, &quot;markerColor&quot;: &quot;red&quot;, &quot;prefix&quot;: &quot;glyphicon&quot;}\n            );\n            marker_a418f07db023881377e4212039720312.setIcon(icon_e071f5ee7c9727606079e4c22d816375);\n        \n    \n        var popup_629c3df828ff9a114936a963412c18c2 = L.popup({&quot;maxWidth&quot;: &quot;100%&quot;});\n\n        \n            \n                var html_551fa63190ba335c09712a87c589de5d = $(`&lt;div id=&quot;html_551fa63190ba335c09712a87c589de5d&quot; style=&quot;width: 100.0%; height: 100.0%;&quot;&gt;Launch Site: CCAFS LC-40, Result: Failed&lt;/div&gt;`)[0];\n                popup_629c3df828ff9a114936a963412c18c2.setContent(html_551fa63190ba335c09712a87c589de5d);\n            \n        \n\n        marker_a418f07db023881377e4212039720312.bindPopup(popup_629c3df828ff9a114936a963412c18c2)\n        ;\n\n        \n    \n    \n            var marker_3e60dabedef975092e2b729602e45d17 = L.marker(\n                [28.56230197, -80.57735648],\n                {}\n            ).addTo(map_f830048241263be005087c2f74a1ce4c);\n        \n    \n            var icon_b6e47df81cc904c28edc1005598ad96d = L.AwesomeMarkers.icon(\n                {&quot;extraClasses&quot;: &quot;fa-rotate-0&quot;, &quot;icon&quot;: &quot;info-sign&quot;, &quot;iconColor&quot;: &quot;white&quot;, &quot;markerColor&quot;: &quot;red&quot;, &quot;prefix&quot;: &quot;glyphicon&quot;}\n            );\n            marker_3e60dabedef975092e2b729602e45d17.setIcon(icon_b6e47df81cc904c28edc1005598ad96d);\n        \n    \n        var popup_b988e51925d3b8457fc4e2ca1fe6c3f5 = L.popup({&quot;maxWidth&quot;: &quot;100%&quot;});\n\n        \n            \n                var html_f04fe9266e5835ae18a9209594e11e54 = $(`&lt;div id=&quot;html_f04fe9266e5835ae18a9209594e11e54&quot; style=&quot;width: 100.0%; height: 100.0%;&quot;&gt;Launch Site: CCAFS LC-40, Result: Failed&lt;/div&gt;`)[0];\n                popup_b988e51925d3b8457fc4e2ca1fe6c3f5.setContent(html_f04fe9266e5835ae18a9209594e11e54);\n            \n        \n\n        marker_3e60dabedef975092e2b729602e45d17.bindPopup(popup_b988e51925d3b8457fc4e2ca1fe6c3f5)\n        ;\n\n        \n    \n    \n            var marker_d1619348d41e6686e35da9c1610b4e64 = L.marker(\n                [28.56230197, -80.57735648],\n                {}\n            ).addTo(map_f830048241263be005087c2f74a1ce4c);\n        \n    \n            var icon_a596a92f8a656b0af8ec8e5fbd430a3b = L.AwesomeMarkers.icon(\n                {&quot;extraClasses&quot;: &quot;fa-rotate-0&quot;, &quot;icon&quot;: &quot;info-sign&quot;, &quot;iconColor&quot;: &quot;white&quot;, &quot;markerColor&quot;: &quot;red&quot;, &quot;prefix&quot;: &quot;glyphicon&quot;}\n            );\n            marker_d1619348d41e6686e35da9c1610b4e64.setIcon(icon_a596a92f8a656b0af8ec8e5fbd430a3b);\n        \n    \n        var popup_53c2045d1eb380c463e0467e78643600 = L.popup({&quot;maxWidth&quot;: &quot;100%&quot;});\n\n        \n            \n                var html_52a4a13bd5d446b14cb7dbecc5d3d532 = $(`&lt;div id=&quot;html_52a4a13bd5d446b14cb7dbecc5d3d532&quot; style=&quot;width: 100.0%; height: 100.0%;&quot;&gt;Launch Site: CCAFS LC-40, Result: Failed&lt;/div&gt;`)[0];\n                popup_53c2045d1eb380c463e0467e78643600.setContent(html_52a4a13bd5d446b14cb7dbecc5d3d532);\n            \n        \n\n        marker_d1619348d41e6686e35da9c1610b4e64.bindPopup(popup_53c2045d1eb380c463e0467e78643600)\n        ;\n\n        \n    \n    \n            var marker_80fd5018b286f12e962f79e756604956 = L.marker(\n                [28.56230197, -80.57735648],\n                {}\n            ).addTo(map_f830048241263be005087c2f74a1ce4c);\n        \n    \n            var icon_007f904b2ededdc85617c12f961010a6 = L.AwesomeMarkers.icon(\n                {&quot;extraClasses&quot;: &quot;fa-rotate-0&quot;, &quot;icon&quot;: &quot;info-sign&quot;, &quot;iconColor&quot;: &quot;white&quot;, &quot;markerColor&quot;: &quot;red&quot;, &quot;prefix&quot;: &quot;glyphicon&quot;}\n            );\n            marker_80fd5018b286f12e962f79e756604956.setIcon(icon_007f904b2ededdc85617c12f961010a6);\n        \n    \n        var popup_9c84fa0ca9f1644eac96ce90b83abb05 = L.popup({&quot;maxWidth&quot;: &quot;100%&quot;});\n\n        \n            \n                var html_21217eb420769150735105613ecddf0e = $(`&lt;div id=&quot;html_21217eb420769150735105613ecddf0e&quot; style=&quot;width: 100.0%; height: 100.0%;&quot;&gt;Launch Site: CCAFS LC-40, Result: Failed&lt;/div&gt;`)[0];\n                popup_9c84fa0ca9f1644eac96ce90b83abb05.setContent(html_21217eb420769150735105613ecddf0e);\n            \n        \n\n        marker_80fd5018b286f12e962f79e756604956.bindPopup(popup_9c84fa0ca9f1644eac96ce90b83abb05)\n        ;\n\n        \n    \n    \n            var marker_c3bc588369148f51538aa178ca8cb164 = L.marker(\n                [28.56230197, -80.57735648],\n                {}\n            ).addTo(map_f830048241263be005087c2f74a1ce4c);\n        \n    \n            var icon_ff4be0374fbbd4c266ffcb4cf378c031 = L.AwesomeMarkers.icon(\n                {&quot;extraClasses&quot;: &quot;fa-rotate-0&quot;, &quot;icon&quot;: &quot;info-sign&quot;, &quot;iconColor&quot;: &quot;white&quot;, &quot;markerColor&quot;: &quot;red&quot;, &quot;prefix&quot;: &quot;glyphicon&quot;}\n            );\n            marker_c3bc588369148f51538aa178ca8cb164.setIcon(icon_ff4be0374fbbd4c266ffcb4cf378c031);\n        \n    \n        var popup_540535b1f3fa902222d123c94a4cd7cf = L.popup({&quot;maxWidth&quot;: &quot;100%&quot;});\n\n        \n            \n                var html_4b57665d3827337ed37a1d61df276bb1 = $(`&lt;div id=&quot;html_4b57665d3827337ed37a1d61df276bb1&quot; style=&quot;width: 100.0%; height: 100.0%;&quot;&gt;Launch Site: CCAFS LC-40, Result: Failed&lt;/div&gt;`)[0];\n                popup_540535b1f3fa902222d123c94a4cd7cf.setContent(html_4b57665d3827337ed37a1d61df276bb1);\n            \n        \n\n        marker_c3bc588369148f51538aa178ca8cb164.bindPopup(popup_540535b1f3fa902222d123c94a4cd7cf)\n        ;\n\n        \n    \n    \n            var marker_ab0ec0d3e8a258520ba549a2363fa8dd = L.marker(\n                [28.56230197, -80.57735648],\n                {}\n            ).addTo(map_f830048241263be005087c2f74a1ce4c);\n        \n    \n            var icon_7319cd617dfc4fddbda6f4546dcaf3f8 = L.AwesomeMarkers.icon(\n                {&quot;extraClasses&quot;: &quot;fa-rotate-0&quot;, &quot;icon&quot;: &quot;info-sign&quot;, &quot;iconColor&quot;: &quot;white&quot;, &quot;markerColor&quot;: &quot;red&quot;, &quot;prefix&quot;: &quot;glyphicon&quot;}\n            );\n            marker_ab0ec0d3e8a258520ba549a2363fa8dd.setIcon(icon_7319cd617dfc4fddbda6f4546dcaf3f8);\n        \n    \n        var popup_57400ac721f823be4db4ae6aa82e5bb4 = L.popup({&quot;maxWidth&quot;: &quot;100%&quot;});\n\n        \n            \n                var html_8ecd06c671238075f10f26d4802c60a9 = $(`&lt;div id=&quot;html_8ecd06c671238075f10f26d4802c60a9&quot; style=&quot;width: 100.0%; height: 100.0%;&quot;&gt;Launch Site: CCAFS LC-40, Result: Failed&lt;/div&gt;`)[0];\n                popup_57400ac721f823be4db4ae6aa82e5bb4.setContent(html_8ecd06c671238075f10f26d4802c60a9);\n            \n        \n\n        marker_ab0ec0d3e8a258520ba549a2363fa8dd.bindPopup(popup_57400ac721f823be4db4ae6aa82e5bb4)\n        ;\n\n        \n    \n    \n            var marker_d0b89ded0366b48bd2139418db309194 = L.marker(\n                [28.56230197, -80.57735648],\n                {}\n            ).addTo(map_f830048241263be005087c2f74a1ce4c);\n        \n    \n            var icon_b61f6590d938beb29e1dba106fc7e623 = L.AwesomeMarkers.icon(\n                {&quot;extraClasses&quot;: &quot;fa-rotate-0&quot;, &quot;icon&quot;: &quot;info-sign&quot;, &quot;iconColor&quot;: &quot;white&quot;, &quot;markerColor&quot;: &quot;red&quot;, &quot;prefix&quot;: &quot;glyphicon&quot;}\n            );\n            marker_d0b89ded0366b48bd2139418db309194.setIcon(icon_b61f6590d938beb29e1dba106fc7e623);\n        \n    \n        var popup_eaea97eda497d8f5e4c1342281f72438 = L.popup({&quot;maxWidth&quot;: &quot;100%&quot;});\n\n        \n            \n                var html_c0ae1d25020f50eed27869e6c653c432 = $(`&lt;div id=&quot;html_c0ae1d25020f50eed27869e6c653c432&quot; style=&quot;width: 100.0%; height: 100.0%;&quot;&gt;Launch Site: CCAFS LC-40, Result: Failed&lt;/div&gt;`)[0];\n                popup_eaea97eda497d8f5e4c1342281f72438.setContent(html_c0ae1d25020f50eed27869e6c653c432);\n            \n        \n\n        marker_d0b89ded0366b48bd2139418db309194.bindPopup(popup_eaea97eda497d8f5e4c1342281f72438)\n        ;\n\n        \n    \n    \n            var marker_d055de7787e0c2499f4a97d1fa8d976a = L.marker(\n                [28.56230197, -80.57735648],\n                {}\n            ).addTo(map_f830048241263be005087c2f74a1ce4c);\n        \n    \n            var icon_41be5d8528cc2faf9874390a21993832 = L.AwesomeMarkers.icon(\n                {&quot;extraClasses&quot;: &quot;fa-rotate-0&quot;, &quot;icon&quot;: &quot;info-sign&quot;, &quot;iconColor&quot;: &quot;white&quot;, &quot;markerColor&quot;: &quot;red&quot;, &quot;prefix&quot;: &quot;glyphicon&quot;}\n            );\n            marker_d055de7787e0c2499f4a97d1fa8d976a.setIcon(icon_41be5d8528cc2faf9874390a21993832);\n        \n    \n        var popup_4f25c3427b6811dc2931a39ff2fe772b = L.popup({&quot;maxWidth&quot;: &quot;100%&quot;});\n\n        \n            \n                var html_b48715ed1d84b976268e414796798250 = $(`&lt;div id=&quot;html_b48715ed1d84b976268e414796798250&quot; style=&quot;width: 100.0%; height: 100.0%;&quot;&gt;Launch Site: CCAFS LC-40, Result: Failed&lt;/div&gt;`)[0];\n                popup_4f25c3427b6811dc2931a39ff2fe772b.setContent(html_b48715ed1d84b976268e414796798250);\n            \n        \n\n        marker_d055de7787e0c2499f4a97d1fa8d976a.bindPopup(popup_4f25c3427b6811dc2931a39ff2fe772b)\n        ;\n\n        \n    \n    \n            var marker_644d2da8fd1b743ea5cc6226b98f40c0 = L.marker(\n                [28.56230197, -80.57735648],\n                {}\n            ).addTo(map_f830048241263be005087c2f74a1ce4c);\n        \n    \n            var icon_54f1663034f1001d689bdfbfe98b0b58 = L.AwesomeMarkers.icon(\n                {&quot;extraClasses&quot;: &quot;fa-rotate-0&quot;, &quot;icon&quot;: &quot;info-sign&quot;, &quot;iconColor&quot;: &quot;white&quot;, &quot;markerColor&quot;: &quot;red&quot;, &quot;prefix&quot;: &quot;glyphicon&quot;}\n            );\n            marker_644d2da8fd1b743ea5cc6226b98f40c0.setIcon(icon_54f1663034f1001d689bdfbfe98b0b58);\n        \n    \n        var popup_b5c6daa1ec52f5433d6d992b0c5d45ce = L.popup({&quot;maxWidth&quot;: &quot;100%&quot;});\n\n        \n            \n                var html_6a707e37888a4fc5e235a3f84265b507 = $(`&lt;div id=&quot;html_6a707e37888a4fc5e235a3f84265b507&quot; style=&quot;width: 100.0%; height: 100.0%;&quot;&gt;Launch Site: CCAFS LC-40, Result: Failed&lt;/div&gt;`)[0];\n                popup_b5c6daa1ec52f5433d6d992b0c5d45ce.setContent(html_6a707e37888a4fc5e235a3f84265b507);\n            \n        \n\n        marker_644d2da8fd1b743ea5cc6226b98f40c0.bindPopup(popup_b5c6daa1ec52f5433d6d992b0c5d45ce)\n        ;\n\n        \n    \n    \n            var marker_fd664f1261eed2a2d41d01485e060117 = L.marker(\n                [28.56230197, -80.57735648],\n                {}\n            ).addTo(map_f830048241263be005087c2f74a1ce4c);\n        \n    \n            var icon_a6ddebe2f828ea6830f0bced4d4e75d3 = L.AwesomeMarkers.icon(\n                {&quot;extraClasses&quot;: &quot;fa-rotate-0&quot;, &quot;icon&quot;: &quot;info-sign&quot;, &quot;iconColor&quot;: &quot;white&quot;, &quot;markerColor&quot;: &quot;red&quot;, &quot;prefix&quot;: &quot;glyphicon&quot;}\n            );\n            marker_fd664f1261eed2a2d41d01485e060117.setIcon(icon_a6ddebe2f828ea6830f0bced4d4e75d3);\n        \n    \n        var popup_5860e1c63a4ca6bbfc930ae6191ca109 = L.popup({&quot;maxWidth&quot;: &quot;100%&quot;});\n\n        \n            \n                var html_bcc852dd440504cd7b61005a740842ff = $(`&lt;div id=&quot;html_bcc852dd440504cd7b61005a740842ff&quot; style=&quot;width: 100.0%; height: 100.0%;&quot;&gt;Launch Site: CCAFS LC-40, Result: Failed&lt;/div&gt;`)[0];\n                popup_5860e1c63a4ca6bbfc930ae6191ca109.setContent(html_bcc852dd440504cd7b61005a740842ff);\n            \n        \n\n        marker_fd664f1261eed2a2d41d01485e060117.bindPopup(popup_5860e1c63a4ca6bbfc930ae6191ca109)\n        ;\n\n        \n    \n    \n            var marker_ff34d1e34ca102e70e744bf4fe86dd45 = L.marker(\n                [28.56230197, -80.57735648],\n                {}\n            ).addTo(map_f830048241263be005087c2f74a1ce4c);\n        \n    \n            var icon_72ebeba636c47aa71094dc0d624d4b75 = L.AwesomeMarkers.icon(\n                {&quot;extraClasses&quot;: &quot;fa-rotate-0&quot;, &quot;icon&quot;: &quot;info-sign&quot;, &quot;iconColor&quot;: &quot;white&quot;, &quot;markerColor&quot;: &quot;red&quot;, &quot;prefix&quot;: &quot;glyphicon&quot;}\n            );\n            marker_ff34d1e34ca102e70e744bf4fe86dd45.setIcon(icon_72ebeba636c47aa71094dc0d624d4b75);\n        \n    \n        var popup_1404278328f884a8cfd47bc605d1f2b7 = L.popup({&quot;maxWidth&quot;: &quot;100%&quot;});\n\n        \n            \n                var html_b487c1d9eb6187d2eabf1817eabd1d04 = $(`&lt;div id=&quot;html_b487c1d9eb6187d2eabf1817eabd1d04&quot; style=&quot;width: 100.0%; height: 100.0%;&quot;&gt;Launch Site: CCAFS LC-40, Result: Failed&lt;/div&gt;`)[0];\n                popup_1404278328f884a8cfd47bc605d1f2b7.setContent(html_b487c1d9eb6187d2eabf1817eabd1d04);\n            \n        \n\n        marker_ff34d1e34ca102e70e744bf4fe86dd45.bindPopup(popup_1404278328f884a8cfd47bc605d1f2b7)\n        ;\n\n        \n    \n    \n            var marker_5909599cd613242f032943d9acc8060f = L.marker(\n                [34.63283416, -120.6107455],\n                {}\n            ).addTo(map_f830048241263be005087c2f74a1ce4c);\n        \n    \n            var icon_e9351ad8dc2bf1fb7cb96db43d17d7b2 = L.AwesomeMarkers.icon(\n                {&quot;extraClasses&quot;: &quot;fa-rotate-0&quot;, &quot;icon&quot;: &quot;info-sign&quot;, &quot;iconColor&quot;: &quot;white&quot;, &quot;markerColor&quot;: &quot;red&quot;, &quot;prefix&quot;: &quot;glyphicon&quot;}\n            );\n            marker_5909599cd613242f032943d9acc8060f.setIcon(icon_e9351ad8dc2bf1fb7cb96db43d17d7b2);\n        \n    \n        var popup_94d726454e2442f6caf7f58393ac8cb7 = L.popup({&quot;maxWidth&quot;: &quot;100%&quot;});\n\n        \n            \n                var html_2979e0d3559d5aecb14311c9ef82613a = $(`&lt;div id=&quot;html_2979e0d3559d5aecb14311c9ef82613a&quot; style=&quot;width: 100.0%; height: 100.0%;&quot;&gt;Launch Site: VAFB SLC-4E, Result: Failed&lt;/div&gt;`)[0];\n                popup_94d726454e2442f6caf7f58393ac8cb7.setContent(html_2979e0d3559d5aecb14311c9ef82613a);\n            \n        \n\n        marker_5909599cd613242f032943d9acc8060f.bindPopup(popup_94d726454e2442f6caf7f58393ac8cb7)\n        ;\n\n        \n    \n    \n            var marker_30bf9069d0178cb0e1e47f3d4a2cb238 = L.marker(\n                [34.63283416, -120.6107455],\n                {}\n            ).addTo(map_f830048241263be005087c2f74a1ce4c);\n        \n    \n            var icon_8e67b0ff2a76417eb7a0fd564b38a516 = L.AwesomeMarkers.icon(\n                {&quot;extraClasses&quot;: &quot;fa-rotate-0&quot;, &quot;icon&quot;: &quot;info-sign&quot;, &quot;iconColor&quot;: &quot;white&quot;, &quot;markerColor&quot;: &quot;red&quot;, &quot;prefix&quot;: &quot;glyphicon&quot;}\n            );\n            marker_30bf9069d0178cb0e1e47f3d4a2cb238.setIcon(icon_8e67b0ff2a76417eb7a0fd564b38a516);\n        \n    \n        var popup_c3840cb106fa408f4d9c83ee67162bc0 = L.popup({&quot;maxWidth&quot;: &quot;100%&quot;});\n\n        \n            \n                var html_cb3bb63cbf934c64433e2ac3eeaf629d = $(`&lt;div id=&quot;html_cb3bb63cbf934c64433e2ac3eeaf629d&quot; style=&quot;width: 100.0%; height: 100.0%;&quot;&gt;Launch Site: VAFB SLC-4E, Result: Failed&lt;/div&gt;`)[0];\n                popup_c3840cb106fa408f4d9c83ee67162bc0.setContent(html_cb3bb63cbf934c64433e2ac3eeaf629d);\n            \n        \n\n        marker_30bf9069d0178cb0e1e47f3d4a2cb238.bindPopup(popup_c3840cb106fa408f4d9c83ee67162bc0)\n        ;\n\n        \n    \n    \n            var marker_05813169296f48c6be4aef9b0e72dda1 = L.marker(\n                [34.63283416, -120.6107455],\n                {}\n            ).addTo(map_f830048241263be005087c2f74a1ce4c);\n        \n    \n            var icon_10596ac4a9823bf3a6d32a64410c189d = L.AwesomeMarkers.icon(\n                {&quot;extraClasses&quot;: &quot;fa-rotate-0&quot;, &quot;icon&quot;: &quot;info-sign&quot;, &quot;iconColor&quot;: &quot;white&quot;, &quot;markerColor&quot;: &quot;red&quot;, &quot;prefix&quot;: &quot;glyphicon&quot;}\n            );\n            marker_05813169296f48c6be4aef9b0e72dda1.setIcon(icon_10596ac4a9823bf3a6d32a64410c189d);\n        \n    \n        var popup_db8df827e2b58037ec685cfb0b10dc05 = L.popup({&quot;maxWidth&quot;: &quot;100%&quot;});\n\n        \n            \n                var html_4e0926c60a98a21b6e0bc5161b4bd16e = $(`&lt;div id=&quot;html_4e0926c60a98a21b6e0bc5161b4bd16e&quot; style=&quot;width: 100.0%; height: 100.0%;&quot;&gt;Launch Site: VAFB SLC-4E, Result: Failed&lt;/div&gt;`)[0];\n                popup_db8df827e2b58037ec685cfb0b10dc05.setContent(html_4e0926c60a98a21b6e0bc5161b4bd16e);\n            \n        \n\n        marker_05813169296f48c6be4aef9b0e72dda1.bindPopup(popup_db8df827e2b58037ec685cfb0b10dc05)\n        ;\n\n        \n    \n    \n            var marker_ad6d842972e1d4b4f3dcb6d6a1cb440f = L.marker(\n                [34.63283416, -120.6107455],\n                {}\n            ).addTo(map_f830048241263be005087c2f74a1ce4c);\n        \n    \n            var icon_d494f8d9137a01ecc574032b5f9e8e0f = L.AwesomeMarkers.icon(\n                {&quot;extraClasses&quot;: &quot;fa-rotate-0&quot;, &quot;icon&quot;: &quot;info-sign&quot;, &quot;iconColor&quot;: &quot;white&quot;, &quot;markerColor&quot;: &quot;red&quot;, &quot;prefix&quot;: &quot;glyphicon&quot;}\n            );\n            marker_ad6d842972e1d4b4f3dcb6d6a1cb440f.setIcon(icon_d494f8d9137a01ecc574032b5f9e8e0f);\n        \n    \n        var popup_2e78de679f2a944d2c0ee92cc05b0bc4 = L.popup({&quot;maxWidth&quot;: &quot;100%&quot;});\n\n        \n            \n                var html_3f520007f599566753eb50182eb62cb4 = $(`&lt;div id=&quot;html_3f520007f599566753eb50182eb62cb4&quot; style=&quot;width: 100.0%; height: 100.0%;&quot;&gt;Launch Site: VAFB SLC-4E, Result: Failed&lt;/div&gt;`)[0];\n                popup_2e78de679f2a944d2c0ee92cc05b0bc4.setContent(html_3f520007f599566753eb50182eb62cb4);\n            \n        \n\n        marker_ad6d842972e1d4b4f3dcb6d6a1cb440f.bindPopup(popup_2e78de679f2a944d2c0ee92cc05b0bc4)\n        ;\n\n        \n    \n    \n            var marker_d337c549d1b5f1639c6b5747c284584a = L.marker(\n                [34.63283416, -120.6107455],\n                {}\n            ).addTo(map_f830048241263be005087c2f74a1ce4c);\n        \n    \n            var icon_8dcb08449365807488c8e22915626c41 = L.AwesomeMarkers.icon(\n                {&quot;extraClasses&quot;: &quot;fa-rotate-0&quot;, &quot;icon&quot;: &quot;info-sign&quot;, &quot;iconColor&quot;: &quot;white&quot;, &quot;markerColor&quot;: &quot;red&quot;, &quot;prefix&quot;: &quot;glyphicon&quot;}\n            );\n            marker_d337c549d1b5f1639c6b5747c284584a.setIcon(icon_8dcb08449365807488c8e22915626c41);\n        \n    \n        var popup_4b7b7377aad961430cf5fd053bf9fd63 = L.popup({&quot;maxWidth&quot;: &quot;100%&quot;});\n\n        \n            \n                var html_4313f09f650b932deb90f9f3a07bee9b = $(`&lt;div id=&quot;html_4313f09f650b932deb90f9f3a07bee9b&quot; style=&quot;width: 100.0%; height: 100.0%;&quot;&gt;Launch Site: VAFB SLC-4E, Result: Failed&lt;/div&gt;`)[0];\n                popup_4b7b7377aad961430cf5fd053bf9fd63.setContent(html_4313f09f650b932deb90f9f3a07bee9b);\n            \n        \n\n        marker_d337c549d1b5f1639c6b5747c284584a.bindPopup(popup_4b7b7377aad961430cf5fd053bf9fd63)\n        ;\n\n        \n    \n    \n            var marker_7d529c22192228dfe666fa65138156c5 = L.marker(\n                [34.63283416, -120.6107455],\n                {}\n            ).addTo(map_f830048241263be005087c2f74a1ce4c);\n        \n    \n            var icon_6573ef723a2800f4155f05ab55de1197 = L.AwesomeMarkers.icon(\n                {&quot;extraClasses&quot;: &quot;fa-rotate-0&quot;, &quot;icon&quot;: &quot;info-sign&quot;, &quot;iconColor&quot;: &quot;white&quot;, &quot;markerColor&quot;: &quot;red&quot;, &quot;prefix&quot;: &quot;glyphicon&quot;}\n            );\n            marker_7d529c22192228dfe666fa65138156c5.setIcon(icon_6573ef723a2800f4155f05ab55de1197);\n        \n    \n        var popup_4b9d77b0f2c7d5b362b6abfb07ade558 = L.popup({&quot;maxWidth&quot;: &quot;100%&quot;});\n\n        \n            \n                var html_6960c636feb3848b6ec779973f152aa9 = $(`&lt;div id=&quot;html_6960c636feb3848b6ec779973f152aa9&quot; style=&quot;width: 100.0%; height: 100.0%;&quot;&gt;Launch Site: VAFB SLC-4E, Result: Failed&lt;/div&gt;`)[0];\n                popup_4b9d77b0f2c7d5b362b6abfb07ade558.setContent(html_6960c636feb3848b6ec779973f152aa9);\n            \n        \n\n        marker_7d529c22192228dfe666fa65138156c5.bindPopup(popup_4b9d77b0f2c7d5b362b6abfb07ade558)\n        ;\n\n        \n    \n    \n            var marker_b295d5ccabb3617d5123e1cdd4eed568 = L.marker(\n                [28.57325457, -80.64689529],\n                {}\n            ).addTo(map_f830048241263be005087c2f74a1ce4c);\n        \n    \n            var icon_301bafe529635c5a6b5baf49068f0d1d = L.AwesomeMarkers.icon(\n                {&quot;extraClasses&quot;: &quot;fa-rotate-0&quot;, &quot;icon&quot;: &quot;info-sign&quot;, &quot;iconColor&quot;: &quot;white&quot;, &quot;markerColor&quot;: &quot;red&quot;, &quot;prefix&quot;: &quot;glyphicon&quot;}\n            );\n            marker_b295d5ccabb3617d5123e1cdd4eed568.setIcon(icon_301bafe529635c5a6b5baf49068f0d1d);\n        \n    \n        var popup_09095135600bb0c2e49dda62c6a38342 = L.popup({&quot;maxWidth&quot;: &quot;100%&quot;});\n\n        \n            \n                var html_bdd763366dc1ab8c75a02c86c9ae75ac = $(`&lt;div id=&quot;html_bdd763366dc1ab8c75a02c86c9ae75ac&quot; style=&quot;width: 100.0%; height: 100.0%;&quot;&gt;Launch Site: KSC LC-39A, Result: Failed&lt;/div&gt;`)[0];\n                popup_09095135600bb0c2e49dda62c6a38342.setContent(html_bdd763366dc1ab8c75a02c86c9ae75ac);\n            \n        \n\n        marker_b295d5ccabb3617d5123e1cdd4eed568.bindPopup(popup_09095135600bb0c2e49dda62c6a38342)\n        ;\n\n        \n    \n    \n            var marker_ca916005bd380164dfe2ef4695c82afa = L.marker(\n                [28.57325457, -80.64689529],\n                {}\n            ).addTo(map_f830048241263be005087c2f74a1ce4c);\n        \n    \n            var icon_dcfc8a6f2a7c028963c593ade51a5bd0 = L.AwesomeMarkers.icon(\n                {&quot;extraClasses&quot;: &quot;fa-rotate-0&quot;, &quot;icon&quot;: &quot;info-sign&quot;, &quot;iconColor&quot;: &quot;white&quot;, &quot;markerColor&quot;: &quot;red&quot;, &quot;prefix&quot;: &quot;glyphicon&quot;}\n            );\n            marker_ca916005bd380164dfe2ef4695c82afa.setIcon(icon_dcfc8a6f2a7c028963c593ade51a5bd0);\n        \n    \n        var popup_1b06ce6dfd3f3a82e16effd6a1c5e91c = L.popup({&quot;maxWidth&quot;: &quot;100%&quot;});\n\n        \n            \n                var html_fca2116b8f9896d40769f4532bd638c6 = $(`&lt;div id=&quot;html_fca2116b8f9896d40769f4532bd638c6&quot; style=&quot;width: 100.0%; height: 100.0%;&quot;&gt;Launch Site: KSC LC-39A, Result: Failed&lt;/div&gt;`)[0];\n                popup_1b06ce6dfd3f3a82e16effd6a1c5e91c.setContent(html_fca2116b8f9896d40769f4532bd638c6);\n            \n        \n\n        marker_ca916005bd380164dfe2ef4695c82afa.bindPopup(popup_1b06ce6dfd3f3a82e16effd6a1c5e91c)\n        ;\n\n        \n    \n    \n            var marker_65dd6bd0834faba7d38b823e63e68b6a = L.marker(\n                [28.57325457, -80.64689529],\n                {}\n            ).addTo(map_f830048241263be005087c2f74a1ce4c);\n        \n    \n            var icon_01a86c0b3be6a00bd71a03abc52b86e1 = L.AwesomeMarkers.icon(\n                {&quot;extraClasses&quot;: &quot;fa-rotate-0&quot;, &quot;icon&quot;: &quot;info-sign&quot;, &quot;iconColor&quot;: &quot;white&quot;, &quot;markerColor&quot;: &quot;red&quot;, &quot;prefix&quot;: &quot;glyphicon&quot;}\n            );\n            marker_65dd6bd0834faba7d38b823e63e68b6a.setIcon(icon_01a86c0b3be6a00bd71a03abc52b86e1);\n        \n    \n        var popup_883d5e7fa1e793d15885facdc8f06572 = L.popup({&quot;maxWidth&quot;: &quot;100%&quot;});\n\n        \n            \n                var html_9962909ae86d0e31fa3f7bbd1a0c34c8 = $(`&lt;div id=&quot;html_9962909ae86d0e31fa3f7bbd1a0c34c8&quot; style=&quot;width: 100.0%; height: 100.0%;&quot;&gt;Launch Site: KSC LC-39A, Result: Failed&lt;/div&gt;`)[0];\n                popup_883d5e7fa1e793d15885facdc8f06572.setContent(html_9962909ae86d0e31fa3f7bbd1a0c34c8);\n            \n        \n\n        marker_65dd6bd0834faba7d38b823e63e68b6a.bindPopup(popup_883d5e7fa1e793d15885facdc8f06572)\n        ;\n\n        \n    \n    \n            var marker_241abd57324337f9478d624b6fa6e1b3 = L.marker(\n                [28.56319718, -80.57682003],\n                {}\n            ).addTo(map_f830048241263be005087c2f74a1ce4c);\n        \n    \n            var icon_ebadd95f326c0b0f035b461718be9228 = L.AwesomeMarkers.icon(\n                {&quot;extraClasses&quot;: &quot;fa-rotate-0&quot;, &quot;icon&quot;: &quot;info-sign&quot;, &quot;iconColor&quot;: &quot;white&quot;, &quot;markerColor&quot;: &quot;red&quot;, &quot;prefix&quot;: &quot;glyphicon&quot;}\n            );\n            marker_241abd57324337f9478d624b6fa6e1b3.setIcon(icon_ebadd95f326c0b0f035b461718be9228);\n        \n    \n        var popup_b894af5167c9f3685f21e7e320cf27a2 = L.popup({&quot;maxWidth&quot;: &quot;100%&quot;});\n\n        \n            \n                var html_111b3c76c4b92188328cf62877129c84 = $(`&lt;div id=&quot;html_111b3c76c4b92188328cf62877129c84&quot; style=&quot;width: 100.0%; height: 100.0%;&quot;&gt;Launch Site: CCAFS SLC-40, Result: Failed&lt;/div&gt;`)[0];\n                popup_b894af5167c9f3685f21e7e320cf27a2.setContent(html_111b3c76c4b92188328cf62877129c84);\n            \n        \n\n        marker_241abd57324337f9478d624b6fa6e1b3.bindPopup(popup_b894af5167c9f3685f21e7e320cf27a2)\n        ;\n\n        \n    \n    \n            var marker_160538563887a911f130516a8bb75ba4 = L.marker(\n                [28.56319718, -80.57682003],\n                {}\n            ).addTo(map_f830048241263be005087c2f74a1ce4c);\n        \n    \n            var icon_f51a7e0c38c0d2e0d143b399ab5a9a77 = L.AwesomeMarkers.icon(\n                {&quot;extraClasses&quot;: &quot;fa-rotate-0&quot;, &quot;icon&quot;: &quot;info-sign&quot;, &quot;iconColor&quot;: &quot;white&quot;, &quot;markerColor&quot;: &quot;red&quot;, &quot;prefix&quot;: &quot;glyphicon&quot;}\n            );\n            marker_160538563887a911f130516a8bb75ba4.setIcon(icon_f51a7e0c38c0d2e0d143b399ab5a9a77);\n        \n    \n        var popup_ab1e5ace23a11814ad59da9dd7d00711 = L.popup({&quot;maxWidth&quot;: &quot;100%&quot;});\n\n        \n            \n                var html_28922c61f2e769c6f0e13e881e7659d2 = $(`&lt;div id=&quot;html_28922c61f2e769c6f0e13e881e7659d2&quot; style=&quot;width: 100.0%; height: 100.0%;&quot;&gt;Launch Site: CCAFS SLC-40, Result: Failed&lt;/div&gt;`)[0];\n                popup_ab1e5ace23a11814ad59da9dd7d00711.setContent(html_28922c61f2e769c6f0e13e881e7659d2);\n            \n        \n\n        marker_160538563887a911f130516a8bb75ba4.bindPopup(popup_ab1e5ace23a11814ad59da9dd7d00711)\n        ;\n\n        \n    \n    \n            var marker_6c8a69361ad391d4b08ac841e242c364 = L.marker(\n                [28.56319718, -80.57682003],\n                {}\n            ).addTo(map_f830048241263be005087c2f74a1ce4c);\n        \n    \n            var icon_3d7eb5952301c25a365342ef16ec2b95 = L.AwesomeMarkers.icon(\n                {&quot;extraClasses&quot;: &quot;fa-rotate-0&quot;, &quot;icon&quot;: &quot;info-sign&quot;, &quot;iconColor&quot;: &quot;white&quot;, &quot;markerColor&quot;: &quot;red&quot;, &quot;prefix&quot;: &quot;glyphicon&quot;}\n            );\n            marker_6c8a69361ad391d4b08ac841e242c364.setIcon(icon_3d7eb5952301c25a365342ef16ec2b95);\n        \n    \n        var popup_973a0c7d99885f5b0db9ccb9a386488b = L.popup({&quot;maxWidth&quot;: &quot;100%&quot;});\n\n        \n            \n                var html_8bbebc2df3bd30adc294d571c75ceb80 = $(`&lt;div id=&quot;html_8bbebc2df3bd30adc294d571c75ceb80&quot; style=&quot;width: 100.0%; height: 100.0%;&quot;&gt;Launch Site: CCAFS SLC-40, Result: Failed&lt;/div&gt;`)[0];\n                popup_973a0c7d99885f5b0db9ccb9a386488b.setContent(html_8bbebc2df3bd30adc294d571c75ceb80);\n            \n        \n\n        marker_6c8a69361ad391d4b08ac841e242c364.bindPopup(popup_973a0c7d99885f5b0db9ccb9a386488b)\n        ;\n\n        \n    \n    \n            var marker_23e0d356f5639f292831b30311511e5d = L.marker(\n                [28.56319718, -80.57682003],\n                {}\n            ).addTo(map_f830048241263be005087c2f74a1ce4c);\n        \n    \n            var icon_becda16ea563de025b72b94e6ce61ca2 = L.AwesomeMarkers.icon(\n                {&quot;extraClasses&quot;: &quot;fa-rotate-0&quot;, &quot;icon&quot;: &quot;info-sign&quot;, &quot;iconColor&quot;: &quot;white&quot;, &quot;markerColor&quot;: &quot;red&quot;, &quot;prefix&quot;: &quot;glyphicon&quot;}\n            );\n            marker_23e0d356f5639f292831b30311511e5d.setIcon(icon_becda16ea563de025b72b94e6ce61ca2);\n        \n    \n        var popup_b4b048fc302c4cd9cd768e76e3aad68a = L.popup({&quot;maxWidth&quot;: &quot;100%&quot;});\n\n        \n            \n                var html_b8536641e70b7174f489cd50be3fd891 = $(`&lt;div id=&quot;html_b8536641e70b7174f489cd50be3fd891&quot; style=&quot;width: 100.0%; height: 100.0%;&quot;&gt;Launch Site: CCAFS SLC-40, Result: Failed&lt;/div&gt;`)[0];\n                popup_b4b048fc302c4cd9cd768e76e3aad68a.setContent(html_b8536641e70b7174f489cd50be3fd891);\n            \n        \n\n        marker_23e0d356f5639f292831b30311511e5d.bindPopup(popup_b4b048fc302c4cd9cd768e76e3aad68a)\n        ;\n\n        \n    \n&lt;/script&gt;\n&lt;/html&gt;\" style=\"position:absolute;width:100%;height:100%;left:0;top:0;border:none !important;\" allowfullscreen webkitallowfullscreen mozallowfullscreen></iframe></div></div>"
          },
          "metadata": {}
        }
      ],
      "execution_count": 17
    },
    {
      "cell_type": "markdown",
      "source": "Next, let's try to enhance the map by adding the launch outcomes for each site, and see which sites have high success rates.\nRecall that data frame spacex_df has detailed launch records, and the `class` column indicates if this launch was successful or not\n",
      "metadata": {}
    },
    {
      "cell_type": "code",
      "source": "spacex_df.tail(10)",
      "metadata": {
        "trusted": true
      },
      "outputs": [
        {
          "execution_count": 18,
          "output_type": "execute_result",
          "data": {
            "text/plain": "     Launch Site        Lat       Long  class\n46    KSC LC-39A  28.573255 -80.646895      1\n47    KSC LC-39A  28.573255 -80.646895      1\n48    KSC LC-39A  28.573255 -80.646895      1\n49  CCAFS SLC-40  28.563197 -80.576820      1\n50  CCAFS SLC-40  28.563197 -80.576820      1\n51  CCAFS SLC-40  28.563197 -80.576820      0\n52  CCAFS SLC-40  28.563197 -80.576820      0\n53  CCAFS SLC-40  28.563197 -80.576820      0\n54  CCAFS SLC-40  28.563197 -80.576820      1\n55  CCAFS SLC-40  28.563197 -80.576820      0",
            "text/html": "<div>\n<style scoped>\n    .dataframe tbody tr th:only-of-type {\n        vertical-align: middle;\n    }\n\n    .dataframe tbody tr th {\n        vertical-align: top;\n    }\n\n    .dataframe thead th {\n        text-align: right;\n    }\n</style>\n<table border=\"1\" class=\"dataframe\">\n  <thead>\n    <tr style=\"text-align: right;\">\n      <th></th>\n      <th>Launch Site</th>\n      <th>Lat</th>\n      <th>Long</th>\n      <th>class</th>\n    </tr>\n  </thead>\n  <tbody>\n    <tr>\n      <th>46</th>\n      <td>KSC LC-39A</td>\n      <td>28.573255</td>\n      <td>-80.646895</td>\n      <td>1</td>\n    </tr>\n    <tr>\n      <th>47</th>\n      <td>KSC LC-39A</td>\n      <td>28.573255</td>\n      <td>-80.646895</td>\n      <td>1</td>\n    </tr>\n    <tr>\n      <th>48</th>\n      <td>KSC LC-39A</td>\n      <td>28.573255</td>\n      <td>-80.646895</td>\n      <td>1</td>\n    </tr>\n    <tr>\n      <th>49</th>\n      <td>CCAFS SLC-40</td>\n      <td>28.563197</td>\n      <td>-80.576820</td>\n      <td>1</td>\n    </tr>\n    <tr>\n      <th>50</th>\n      <td>CCAFS SLC-40</td>\n      <td>28.563197</td>\n      <td>-80.576820</td>\n      <td>1</td>\n    </tr>\n    <tr>\n      <th>51</th>\n      <td>CCAFS SLC-40</td>\n      <td>28.563197</td>\n      <td>-80.576820</td>\n      <td>0</td>\n    </tr>\n    <tr>\n      <th>52</th>\n      <td>CCAFS SLC-40</td>\n      <td>28.563197</td>\n      <td>-80.576820</td>\n      <td>0</td>\n    </tr>\n    <tr>\n      <th>53</th>\n      <td>CCAFS SLC-40</td>\n      <td>28.563197</td>\n      <td>-80.576820</td>\n      <td>0</td>\n    </tr>\n    <tr>\n      <th>54</th>\n      <td>CCAFS SLC-40</td>\n      <td>28.563197</td>\n      <td>-80.576820</td>\n      <td>1</td>\n    </tr>\n    <tr>\n      <th>55</th>\n      <td>CCAFS SLC-40</td>\n      <td>28.563197</td>\n      <td>-80.576820</td>\n      <td>0</td>\n    </tr>\n  </tbody>\n</table>\n</div>"
          },
          "metadata": {}
        }
      ],
      "execution_count": 18
    },
    {
      "cell_type": "markdown",
      "source": "Next, let's create markers for all launch records.\nIf a launch was successful `(class=1)`, then we use a green marker and if a launch was failed, we use a red marker `(class=0)`\n",
      "metadata": {}
    },
    {
      "cell_type": "markdown",
      "source": "Note that a launch only happens in one of the four launch sites, which means many launch records will have the exact same coordinate. Marker clusters can be a good way to simplify a map containing many markers having the same coordinate.\n",
      "metadata": {}
    },
    {
      "cell_type": "markdown",
      "source": "Let's first create a `MarkerCluster` object\n",
      "metadata": {}
    },
    {
      "cell_type": "code",
      "source": "marker_cluster = MarkerCluster()",
      "metadata": {
        "trusted": true
      },
      "outputs": [],
      "execution_count": 21
    },
    {
      "cell_type": "markdown",
      "source": "*TODO:* Create a new column in `launch_sites` dataframe called `marker_color` to store the marker colors based on the `class` value\n",
      "metadata": {}
    },
    {
      "cell_type": "code",
      "source": "\n#TODO: Create a new column in launch_sites dataframe called marker_color to store the marker colors based on the class value",
      "metadata": {
        "trusted": true
      },
      "outputs": [],
      "execution_count": 23
    },
    {
      "cell_type": "markdown",
      "source": "*TODO:* For each launch result in `spacex_df` data frame, add a `folium.Marker` to `marker_cluster`\n",
      "metadata": {}
    },
    {
      "cell_type": "code",
      "source": "# Add marker_cluster to current site_map\nsite_map.add_child(marker_cluster)\n\n# for each row in spacex_df data frame\n# create a Marker object with its coordinate\n# and customize the Marker's icon property to indicate if this launch was successed or failed, \n# e.g., icon=folium.Icon(color='white', icon_color=row['marker_color']\nfor index, record in spacex_df.iterrows():\n    # TODO: Create and add a Marker cluster to the site map\n    # marker = folium.Marker(...)\n    marker_cluster.add_child(marker)\n\nsite_map",
      "metadata": {
        "trusted": true
      },
      "outputs": [
        {
          "execution_count": 24,
          "output_type": "execute_result",
          "data": {
            "text/plain": "<folium.folium.Map at 0x5a69868>",
            "text/html": "<div style=\"width:100%;\"><div style=\"position:relative;width:100%;height:0;padding-bottom:60%;\"><span style=\"color:#565656\">Make this Notebook Trusted to load map: File -> Trust Notebook</span><iframe srcdoc=\"&lt;!DOCTYPE html&gt;\n&lt;html&gt;\n&lt;head&gt;\n    \n    &lt;meta http-equiv=&quot;content-type&quot; content=&quot;text/html; charset=UTF-8&quot; /&gt;\n    \n        &lt;script&gt;\n            L_NO_TOUCH = false;\n            L_DISABLE_3D = false;\n        &lt;/script&gt;\n    \n    &lt;style&gt;html, body {width: 100%;height: 100%;margin: 0;padding: 0;}&lt;/style&gt;\n    &lt;style&gt;#map {position:absolute;top:0;bottom:0;right:0;left:0;}&lt;/style&gt;\n    &lt;script src=&quot;https://cdn.jsdelivr.net/npm/leaflet@1.9.3/dist/leaflet.js&quot;&gt;&lt;/script&gt;\n    &lt;script src=&quot;https://code.jquery.com/jquery-3.7.1.min.js&quot;&gt;&lt;/script&gt;\n    &lt;script src=&quot;https://cdn.jsdelivr.net/npm/bootstrap@5.2.2/dist/js/bootstrap.bundle.min.js&quot;&gt;&lt;/script&gt;\n    &lt;script src=&quot;https://cdnjs.cloudflare.com/ajax/libs/Leaflet.awesome-markers/2.0.2/leaflet.awesome-markers.js&quot;&gt;&lt;/script&gt;\n    &lt;link rel=&quot;stylesheet&quot; href=&quot;https://cdn.jsdelivr.net/npm/leaflet@1.9.3/dist/leaflet.css&quot;/&gt;\n    &lt;link rel=&quot;stylesheet&quot; href=&quot;https://cdn.jsdelivr.net/npm/bootstrap@5.2.2/dist/css/bootstrap.min.css&quot;/&gt;\n    &lt;link rel=&quot;stylesheet&quot; href=&quot;https://netdna.bootstrapcdn.com/bootstrap/3.0.0/css/bootstrap.min.css&quot;/&gt;\n    &lt;link rel=&quot;stylesheet&quot; href=&quot;https://cdn.jsdelivr.net/npm/@fortawesome/fontawesome-free@6.2.0/css/all.min.css&quot;/&gt;\n    &lt;link rel=&quot;stylesheet&quot; href=&quot;https://cdnjs.cloudflare.com/ajax/libs/Leaflet.awesome-markers/2.0.2/leaflet.awesome-markers.css&quot;/&gt;\n    &lt;link rel=&quot;stylesheet&quot; href=&quot;https://cdn.jsdelivr.net/gh/python-visualization/folium/folium/templates/leaflet.awesome.rotate.min.css&quot;/&gt;\n    \n            &lt;meta name=&quot;viewport&quot; content=&quot;width=device-width,\n                initial-scale=1.0, maximum-scale=1.0, user-scalable=no&quot; /&gt;\n            &lt;style&gt;\n                #map_63dbb037ed8f8a908bcf32cfd2401311 {\n                    position: relative;\n                    width: 100.0%;\n                    height: 100.0%;\n                    left: 0.0%;\n                    top: 0.0%;\n                }\n                .leaflet-container { font-size: 1rem; }\n            &lt;/style&gt;\n        \n    &lt;script src=&quot;https://cdnjs.cloudflare.com/ajax/libs/leaflet.markercluster/1.1.0/leaflet.markercluster.js&quot;&gt;&lt;/script&gt;\n    &lt;link rel=&quot;stylesheet&quot; href=&quot;https://cdnjs.cloudflare.com/ajax/libs/leaflet.markercluster/1.1.0/MarkerCluster.css&quot;/&gt;\n    &lt;link rel=&quot;stylesheet&quot; href=&quot;https://cdnjs.cloudflare.com/ajax/libs/leaflet.markercluster/1.1.0/MarkerCluster.Default.css&quot;/&gt;\n&lt;/head&gt;\n&lt;body&gt;\n    \n    \n            &lt;div class=&quot;folium-map&quot; id=&quot;map_63dbb037ed8f8a908bcf32cfd2401311&quot; &gt;&lt;/div&gt;\n        \n&lt;/body&gt;\n&lt;script&gt;\n    \n    \n            var map_63dbb037ed8f8a908bcf32cfd2401311 = L.map(\n                &quot;map_63dbb037ed8f8a908bcf32cfd2401311&quot;,\n                {\n                    center: [29.559684888503615, -95.0830971930759],\n                    crs: L.CRS.EPSG3857,\n                    zoom: 5,\n                    zoomControl: true,\n                    preferCanvas: false,\n                }\n            );\n\n            \n\n        \n    \n            var tile_layer_a85bac0fc58dd2fd9fcc33b4c9b30073 = L.tileLayer(\n                &quot;https://tile.openstreetmap.org/{z}/{x}/{y}.png&quot;,\n                {&quot;attribution&quot;: &quot;\\u0026copy; \\u003ca href=\\&quot;https://www.openstreetmap.org/copyright\\&quot;\\u003eOpenStreetMap\\u003c/a\\u003e contributors&quot;, &quot;detectRetina&quot;: false, &quot;maxNativeZoom&quot;: 19, &quot;maxZoom&quot;: 19, &quot;minZoom&quot;: 0, &quot;noWrap&quot;: false, &quot;opacity&quot;: 1, &quot;subdomains&quot;: &quot;abc&quot;, &quot;tms&quot;: false}\n            );\n        \n    \n            tile_layer_a85bac0fc58dd2fd9fcc33b4c9b30073.addTo(map_63dbb037ed8f8a908bcf32cfd2401311);\n        \n    \n            var marker_cluster_21b165aa665dfc7affab1cdec99aa257 = L.markerClusterGroup(\n                {}\n            );\n        \n    \n            var marker_a7cfd82f052f307b4a57abf9b4f0e6f2 = L.marker(\n                [28.56319718, -80.57682003],\n                {}\n            ).addTo(marker_cluster_21b165aa665dfc7affab1cdec99aa257);\n        \n    \n            var icon_d05d5d3eb9679520ebaacca157274001 = L.AwesomeMarkers.icon(\n                {&quot;extraClasses&quot;: &quot;fa-rotate-0&quot;, &quot;icon&quot;: &quot;info-sign&quot;, &quot;iconColor&quot;: &quot;white&quot;, &quot;markerColor&quot;: &quot;red&quot;, &quot;prefix&quot;: &quot;glyphicon&quot;}\n            );\n            marker_a7cfd82f052f307b4a57abf9b4f0e6f2.setIcon(icon_d05d5d3eb9679520ebaacca157274001);\n        \n    \n        var popup_89ee25743d3d418202d7ab196a1ce262 = L.popup({&quot;maxWidth&quot;: &quot;100%&quot;});\n\n        \n            \n                var html_164b3513cb64fba9d01f7c8c4715b2a8 = $(`&lt;div id=&quot;html_164b3513cb64fba9d01f7c8c4715b2a8&quot; style=&quot;width: 100.0%; height: 100.0%;&quot;&gt;Launch Site: CCAFS SLC-40, Result: Failed&lt;/div&gt;`)[0];\n                popup_89ee25743d3d418202d7ab196a1ce262.setContent(html_164b3513cb64fba9d01f7c8c4715b2a8);\n            \n        \n\n        marker_a7cfd82f052f307b4a57abf9b4f0e6f2.bindPopup(popup_89ee25743d3d418202d7ab196a1ce262)\n        ;\n\n        \n    \n    \n            marker_cluster_21b165aa665dfc7affab1cdec99aa257.addTo(map_63dbb037ed8f8a908bcf32cfd2401311);\n        \n&lt;/script&gt;\n&lt;/html&gt;\" style=\"position:absolute;width:100%;height:100%;left:0;top:0;border:none !important;\" allowfullscreen webkitallowfullscreen mozallowfullscreen></iframe></div></div>"
          },
          "metadata": {}
        }
      ],
      "execution_count": 24
    },
    {
      "cell_type": "markdown",
      "source": "Your updated map may look like the following screenshots:\n",
      "metadata": {}
    },
    {
      "cell_type": "markdown",
      "source": "<center>\n    <img src=\"https://cf-courses-data.s3.us.cloud-object-storage.appdomain.cloud/IBM-DS0321EN-SkillsNetwork/labs/module_3/images/launch_site_marker_cluster.png\">\n</center>\n",
      "metadata": {}
    },
    {
      "cell_type": "markdown",
      "source": "<center>\n    <img src=\"https://cf-courses-data.s3.us.cloud-object-storage.appdomain.cloud/IBM-DS0321EN-SkillsNetwork/labs/module_3/images/launch_site_marker_cluster_zoomed.png\">\n</center>\n",
      "metadata": {}
    },
    {
      "cell_type": "markdown",
      "source": "From the color-labeled markers in marker clusters, you should be able to easily identify which launch sites have relatively high success rates.\n",
      "metadata": {}
    },
    {
      "cell_type": "code",
      "source": "# TASK 3: Calculate the distances between a launch site to its proximities\nfrom math import radians, sin, cos, sqrt, atan2\ndef calculate_distance(lat1, lon1, lat2, lon2):\n    lat1, lon1, lat2, lon2 = map(radians, [lat1, lon1, lat2, lon2])\n    dlat = lat2 - lat1\n    dlon = lon2 - lon1\n    a = sin(dlat / 2) ** 2 + cos(lat1) * cos(lat2) * sin(dlon / 2) ** 2\n    c = 2 * atan2(sqrt(a), sqrt(1 - a))\n    distance = 6371 * c \n    return distance\n\ndistance = calculate_distance(28.562302, -80.577356, 28.5733, -80.6469)\nprint(f\"Distance between two points: {distance:.2f} km\")",
      "metadata": {
        "trusted": true
      },
      "outputs": [
        {
          "name": "stdout",
          "text": "Distance between two points: 6.90 km\n",
          "output_type": "stream"
        }
      ],
      "execution_count": 27
    },
    {
      "cell_type": "markdown",
      "source": "Next, we need to explore and analyze the proximities of launch sites.\n",
      "metadata": {}
    },
    {
      "cell_type": "markdown",
      "source": "Let's first add a `MousePosition` on the map to get coordinate for a mouse over a point on the map. As such, while you are exploring the map, you can easily find the coordinates of any points of interests (such as railway)\n",
      "metadata": {}
    },
    {
      "cell_type": "code",
      "source": "# Add Mouse Position to get the coordinate (Lat, Long) for a mouse over on the map\nformatter = \"function(num) {return L.Util.formatNum(num, 5);};\"\nmouse_position = MousePosition(\n    position='topright',\n    separator=' Long: ',\n    empty_string='NaN',\n    lng_first=False,\n    num_digits=20,\n    prefix='Lat:',\n    lat_formatter=formatter,\n    lng_formatter=formatter,\n)\n\nsite_map.add_child(mouse_position)\nsite_map",
      "metadata": {
        "trusted": true
      },
      "outputs": [
        {
          "execution_count": 28,
          "output_type": "execute_result",
          "data": {
            "text/plain": "<folium.folium.Map at 0x5a69868>",
            "text/html": "<div style=\"width:100%;\"><div style=\"position:relative;width:100%;height:0;padding-bottom:60%;\"><span style=\"color:#565656\">Make this Notebook Trusted to load map: File -> Trust Notebook</span><iframe srcdoc=\"&lt;!DOCTYPE html&gt;\n&lt;html&gt;\n&lt;head&gt;\n    \n    &lt;meta http-equiv=&quot;content-type&quot; content=&quot;text/html; charset=UTF-8&quot; /&gt;\n    \n        &lt;script&gt;\n            L_NO_TOUCH = false;\n            L_DISABLE_3D = false;\n        &lt;/script&gt;\n    \n    &lt;style&gt;html, body {width: 100%;height: 100%;margin: 0;padding: 0;}&lt;/style&gt;\n    &lt;style&gt;#map {position:absolute;top:0;bottom:0;right:0;left:0;}&lt;/style&gt;\n    &lt;script src=&quot;https://cdn.jsdelivr.net/npm/leaflet@1.9.3/dist/leaflet.js&quot;&gt;&lt;/script&gt;\n    &lt;script src=&quot;https://code.jquery.com/jquery-3.7.1.min.js&quot;&gt;&lt;/script&gt;\n    &lt;script src=&quot;https://cdn.jsdelivr.net/npm/bootstrap@5.2.2/dist/js/bootstrap.bundle.min.js&quot;&gt;&lt;/script&gt;\n    &lt;script src=&quot;https://cdnjs.cloudflare.com/ajax/libs/Leaflet.awesome-markers/2.0.2/leaflet.awesome-markers.js&quot;&gt;&lt;/script&gt;\n    &lt;link rel=&quot;stylesheet&quot; href=&quot;https://cdn.jsdelivr.net/npm/leaflet@1.9.3/dist/leaflet.css&quot;/&gt;\n    &lt;link rel=&quot;stylesheet&quot; href=&quot;https://cdn.jsdelivr.net/npm/bootstrap@5.2.2/dist/css/bootstrap.min.css&quot;/&gt;\n    &lt;link rel=&quot;stylesheet&quot; href=&quot;https://netdna.bootstrapcdn.com/bootstrap/3.0.0/css/bootstrap.min.css&quot;/&gt;\n    &lt;link rel=&quot;stylesheet&quot; href=&quot;https://cdn.jsdelivr.net/npm/@fortawesome/fontawesome-free@6.2.0/css/all.min.css&quot;/&gt;\n    &lt;link rel=&quot;stylesheet&quot; href=&quot;https://cdnjs.cloudflare.com/ajax/libs/Leaflet.awesome-markers/2.0.2/leaflet.awesome-markers.css&quot;/&gt;\n    &lt;link rel=&quot;stylesheet&quot; href=&quot;https://cdn.jsdelivr.net/gh/python-visualization/folium/folium/templates/leaflet.awesome.rotate.min.css&quot;/&gt;\n    \n            &lt;meta name=&quot;viewport&quot; content=&quot;width=device-width,\n                initial-scale=1.0, maximum-scale=1.0, user-scalable=no&quot; /&gt;\n            &lt;style&gt;\n                #map_63dbb037ed8f8a908bcf32cfd2401311 {\n                    position: relative;\n                    width: 100.0%;\n                    height: 100.0%;\n                    left: 0.0%;\n                    top: 0.0%;\n                }\n                .leaflet-container { font-size: 1rem; }\n            &lt;/style&gt;\n        \n    &lt;script src=&quot;https://cdnjs.cloudflare.com/ajax/libs/leaflet.markercluster/1.1.0/leaflet.markercluster.js&quot;&gt;&lt;/script&gt;\n    &lt;link rel=&quot;stylesheet&quot; href=&quot;https://cdnjs.cloudflare.com/ajax/libs/leaflet.markercluster/1.1.0/MarkerCluster.css&quot;/&gt;\n    &lt;link rel=&quot;stylesheet&quot; href=&quot;https://cdnjs.cloudflare.com/ajax/libs/leaflet.markercluster/1.1.0/MarkerCluster.Default.css&quot;/&gt;\n    &lt;script src=&quot;https://cdn.jsdelivr.net/gh/ardhi/Leaflet.MousePosition/src/L.Control.MousePosition.min.js&quot;&gt;&lt;/script&gt;\n    &lt;link rel=&quot;stylesheet&quot; href=&quot;https://cdn.jsdelivr.net/gh/ardhi/Leaflet.MousePosition/src/L.Control.MousePosition.min.css&quot;/&gt;\n&lt;/head&gt;\n&lt;body&gt;\n    \n    \n            &lt;div class=&quot;folium-map&quot; id=&quot;map_63dbb037ed8f8a908bcf32cfd2401311&quot; &gt;&lt;/div&gt;\n        \n&lt;/body&gt;\n&lt;script&gt;\n    \n    \n            var map_63dbb037ed8f8a908bcf32cfd2401311 = L.map(\n                &quot;map_63dbb037ed8f8a908bcf32cfd2401311&quot;,\n                {\n                    center: [29.559684888503615, -95.0830971930759],\n                    crs: L.CRS.EPSG3857,\n                    zoom: 5,\n                    zoomControl: true,\n                    preferCanvas: false,\n                }\n            );\n\n            \n\n        \n    \n            var tile_layer_a85bac0fc58dd2fd9fcc33b4c9b30073 = L.tileLayer(\n                &quot;https://tile.openstreetmap.org/{z}/{x}/{y}.png&quot;,\n                {&quot;attribution&quot;: &quot;\\u0026copy; \\u003ca href=\\&quot;https://www.openstreetmap.org/copyright\\&quot;\\u003eOpenStreetMap\\u003c/a\\u003e contributors&quot;, &quot;detectRetina&quot;: false, &quot;maxNativeZoom&quot;: 19, &quot;maxZoom&quot;: 19, &quot;minZoom&quot;: 0, &quot;noWrap&quot;: false, &quot;opacity&quot;: 1, &quot;subdomains&quot;: &quot;abc&quot;, &quot;tms&quot;: false}\n            );\n        \n    \n            tile_layer_a85bac0fc58dd2fd9fcc33b4c9b30073.addTo(map_63dbb037ed8f8a908bcf32cfd2401311);\n        \n    \n            var marker_cluster_21b165aa665dfc7affab1cdec99aa257 = L.markerClusterGroup(\n                {}\n            );\n        \n    \n            var marker_a7cfd82f052f307b4a57abf9b4f0e6f2 = L.marker(\n                [28.56319718, -80.57682003],\n                {}\n            ).addTo(marker_cluster_21b165aa665dfc7affab1cdec99aa257);\n        \n    \n            var icon_d05d5d3eb9679520ebaacca157274001 = L.AwesomeMarkers.icon(\n                {&quot;extraClasses&quot;: &quot;fa-rotate-0&quot;, &quot;icon&quot;: &quot;info-sign&quot;, &quot;iconColor&quot;: &quot;white&quot;, &quot;markerColor&quot;: &quot;red&quot;, &quot;prefix&quot;: &quot;glyphicon&quot;}\n            );\n            marker_a7cfd82f052f307b4a57abf9b4f0e6f2.setIcon(icon_d05d5d3eb9679520ebaacca157274001);\n        \n    \n        var popup_89ee25743d3d418202d7ab196a1ce262 = L.popup({&quot;maxWidth&quot;: &quot;100%&quot;});\n\n        \n            \n                var html_164b3513cb64fba9d01f7c8c4715b2a8 = $(`&lt;div id=&quot;html_164b3513cb64fba9d01f7c8c4715b2a8&quot; style=&quot;width: 100.0%; height: 100.0%;&quot;&gt;Launch Site: CCAFS SLC-40, Result: Failed&lt;/div&gt;`)[0];\n                popup_89ee25743d3d418202d7ab196a1ce262.setContent(html_164b3513cb64fba9d01f7c8c4715b2a8);\n            \n        \n\n        marker_a7cfd82f052f307b4a57abf9b4f0e6f2.bindPopup(popup_89ee25743d3d418202d7ab196a1ce262)\n        ;\n\n        \n    \n    \n            marker_cluster_21b165aa665dfc7affab1cdec99aa257.addTo(map_63dbb037ed8f8a908bcf32cfd2401311);\n        \n    \n            tile_layer_a85bac0fc58dd2fd9fcc33b4c9b30073.addTo(map_63dbb037ed8f8a908bcf32cfd2401311);\n        \n    \n            marker_cluster_21b165aa665dfc7affab1cdec99aa257.addTo(map_63dbb037ed8f8a908bcf32cfd2401311);\n        \n    \n            var mouse_position_3e3fb7fc30b9a6617e72cadd991cd895 = new L.Control.MousePosition(\n                {&quot;emptyString&quot;: &quot;NaN&quot;, &quot;lngFirst&quot;: false, &quot;numDigits&quot;: 20, &quot;position&quot;: &quot;topright&quot;, &quot;prefix&quot;: &quot;Lat:&quot;, &quot;separator&quot;: &quot; Long: &quot;}\n            );\n            mouse_position_3e3fb7fc30b9a6617e72cadd991cd895.options[&quot;latFormatter&quot;] =\n                function(num) {return L.Util.formatNum(num, 5);};;\n            mouse_position_3e3fb7fc30b9a6617e72cadd991cd895.options[&quot;lngFormatter&quot;] =\n                function(num) {return L.Util.formatNum(num, 5);};;\n            map_63dbb037ed8f8a908bcf32cfd2401311.addControl(mouse_position_3e3fb7fc30b9a6617e72cadd991cd895);\n        \n&lt;/script&gt;\n&lt;/html&gt;\" style=\"position:absolute;width:100%;height:100%;left:0;top:0;border:none !important;\" allowfullscreen webkitallowfullscreen mozallowfullscreen></iframe></div></div>"
          },
          "metadata": {}
        }
      ],
      "execution_count": 28
    },
    {
      "cell_type": "markdown",
      "source": "Now zoom in to a launch site and explore its proximity to see if you can easily find any railway, highway, coastline, etc. Move your mouse to these points and mark down their coordinates (shown on the top-left) in order to the distance to the launch site.\n",
      "metadata": {}
    },
    {
      "cell_type": "markdown",
      "source": "Now zoom in to a launch site and explore its proximity to see if you can easily find any railway, highway, coastline, etc. Move your mouse to these points and mark down their coordinates (shown on the top-left) in order to the distance to the launch site.\n",
      "metadata": {}
    },
    {
      "cell_type": "code",
      "source": "from math import sin, cos, sqrt, atan2, radians\n\ndef calculate_distance(lat1, lon1, lat2, lon2):\n    # approximate radius of earth in km\n    R = 6373.0\n\n    lat1 = radians(lat1)\n    lon1 = radians(lon1)\n    lat2 = radians(lat2)\n    lon2 = radians(lon2)\n\n    dlon = lon2 - lon1\n    dlat = lat2 - lat1\n\n    a = sin(dlat / 2)**2 + cos(lat1) * cos(lat2) * sin(dlon / 2)**2\n    c = 2 * atan2(sqrt(a), sqrt(1 - a))\n\n    distance = R * c\n    return distance",
      "metadata": {
        "trusted": true
      },
      "outputs": [],
      "execution_count": 29
    },
    {
      "cell_type": "markdown",
      "source": "*TODO:* Mark down a point on the closest coastline using MousePosition and calculate the distance between the coastline point and the launch site.\n",
      "metadata": {}
    },
    {
      "cell_type": "code",
      "source": "# find coordinate of the closet coastline\n# e.g.,: Lat: 28.56367  Lon: -80.57163\n# distance_coastline = calculate_distance(launch_site_lat, launch_site_lon, coastline_lat, coastline_lon)",
      "metadata": {},
      "outputs": [],
      "execution_count": null
    },
    {
      "cell_type": "code",
      "source": "# Create and add a folium.Marker on your selected closest coastline point on the map\n# Display the distance between coastline point and launch site using the icon property \n# for example\n\ncoastline_lat = 28.56367\ncoastline_lon = -80.57163\n\ndistance_coastline = calculate_distance(coastline_lat , launch_site_lon, coastline_lat, coastline_lon)\n\ncoastline_marker = folium.Marker(\n    [coastline_lat, coastline_lon],\n    icon=folium.DivIcon(\n        icon_size=(20,20),\n        icon_anchor=(0,0),\n        html=f'<div style=\"font-size: 12; color:#d35400;\"><b>{distance_coastline:.2f} KM</b></div>'\n    )\n)\n\nsite_map.add_child(coastline_marker)\n\nsite_map\n",
      "metadata": {
        "trusted": true
      },
      "outputs": [
        {
          "ename": "<class 'NameError'>",
          "evalue": "name 'launch_site_lat' is not defined",
          "traceback": [
            "\u001b[0;31m---------------------------------------------------------------------------\u001b[0m",
            "\u001b[0;31mNameError\u001b[0m                                 Traceback (most recent call last)",
            "Cell \u001b[0;32mIn[31], line 8\u001b[0m\n\u001b[1;32m      5\u001b[0m coastline_lat \u001b[38;5;241m=\u001b[39m \u001b[38;5;241m28.56367\u001b[39m\n\u001b[1;32m      6\u001b[0m coastline_lon \u001b[38;5;241m=\u001b[39m \u001b[38;5;241m-\u001b[39m\u001b[38;5;241m80.57163\u001b[39m\n\u001b[0;32m----> 8\u001b[0m distance_coastline \u001b[38;5;241m=\u001b[39m calculate_distance(\u001b[43mlaunch_site_lat\u001b[49m, launch_site_lon, coastline_lat, coastline_lon)\n\u001b[1;32m     10\u001b[0m coastline_marker \u001b[38;5;241m=\u001b[39m folium\u001b[38;5;241m.\u001b[39mMarker(\n\u001b[1;32m     11\u001b[0m     [coastline_lat, coastline_lon],\n\u001b[1;32m     12\u001b[0m     icon\u001b[38;5;241m=\u001b[39mfolium\u001b[38;5;241m.\u001b[39mDivIcon(\n\u001b[0;32m   (...)\u001b[0m\n\u001b[1;32m     16\u001b[0m     )\n\u001b[1;32m     17\u001b[0m )\n\u001b[1;32m     19\u001b[0m site_map\u001b[38;5;241m.\u001b[39madd_child(coastline_marker)\n",
            "\u001b[0;31mNameError\u001b[0m: name 'launch_site_lat' is not defined"
          ],
          "output_type": "error"
        }
      ],
      "execution_count": 31
    },
    {
      "cell_type": "markdown",
      "source": "*TODO:* Draw a `PolyLine` between a launch site to the selected coastline point\n",
      "metadata": {}
    },
    {
      "cell_type": "code",
      "source": "# Create a `folium.PolyLine` object using the coastline coordinates and launch site coordinate\n# lines=folium.PolyLine(locations=coordinates, weight=1)\nsite_map.add_child(lines)",
      "metadata": {},
      "outputs": [],
      "execution_count": null
    },
    {
      "cell_type": "markdown",
      "source": "Your updated map with distance line should look like the following screenshot:\n",
      "metadata": {}
    },
    {
      "cell_type": "markdown",
      "source": "<center>\n    <img src=\"https://cf-courses-data.s3.us.cloud-object-storage.appdomain.cloud/IBM-DS0321EN-SkillsNetwork/labs/module_3/images/launch_site_marker_distance.png\">\n</center>\n",
      "metadata": {}
    },
    {
      "cell_type": "markdown",
      "source": "*TODO:* Similarly, you can draw a line betwee a launch site to its closest city, railway, highway, etc. You need to use `MousePosition` to find the their coordinates on the map first\n",
      "metadata": {}
    },
    {
      "cell_type": "markdown",
      "source": "A railway map symbol may look like this:\n",
      "metadata": {}
    },
    {
      "cell_type": "markdown",
      "source": "<center>\n    <img src=\"https://cf-courses-data.s3.us.cloud-object-storage.appdomain.cloud/IBM-DS0321EN-SkillsNetwork/labs/module_3/images/railway.png\">\n</center>\n",
      "metadata": {}
    },
    {
      "cell_type": "markdown",
      "source": "A highway map symbol may look like this:\n",
      "metadata": {}
    },
    {
      "cell_type": "markdown",
      "source": "<center>\n    <img src=\"https://cf-courses-data.s3.us.cloud-object-storage.appdomain.cloud/IBM-DS0321EN-SkillsNetwork/labs/module_3/images/highway.png\">\n</center>\n",
      "metadata": {}
    },
    {
      "cell_type": "markdown",
      "source": "A city map symbol may look like this:\n",
      "metadata": {}
    },
    {
      "cell_type": "markdown",
      "source": "<center>\n    <img src=\"https://cf-courses-data.s3.us.cloud-object-storage.appdomain.cloud/IBM-DS0321EN-SkillsNetwork/labs/module_3/images/city.png\">\n</center>\n",
      "metadata": {}
    },
    {
      "cell_type": "code",
      "source": "# Create a marker with distance to a closest city, railway, highway, etc.\n# Draw a line between the marker to the launch site\n# Example coordinates of the closest city, railway, or highway\nclosest_point_lat = 28.5802\nclosest_point_lon = -80.577\n\n# Calculate distance between launch site and closest point\ndistance_closest_point = calculate_distance(launch_site_lat, launch_site_lon, closest_point_lat, closest_point_lon)\n\n# Create a marker for the closest point with the distance displayed\nclosest_point_marker = folium.Marker(\n    [closest_point_lat, closest_point_lon],\n    icon=folium.DivIcon(\n        icon_size=(20,20),\n        icon_anchor=(0,0),\n        html=f'<div style=\"font-size: 12; color:#d35400;\"><b>{distance_closest_point:.2f} KM</b></div>'\n    )\n)\n\n# Add the closest point marker to the map\nsite_map.add_child(closest_point_marker)\n\n# Draw a line between the marker and the launch site\nline = folium.PolyLine(locations=[[launch_site_lat, launch_site_lon], [closest_point_lat, closest_point_lon]], color='blue')\nsite_map.add_child(line)\n\n# Display the map\nsite\n",
      "metadata": {
        "trusted": true
      },
      "outputs": [
        {
          "ename": "<class 'NameError'>",
          "evalue": "name 'launch_site_lat' is not defined",
          "traceback": [
            "\u001b[0;31m---------------------------------------------------------------------------\u001b[0m",
            "\u001b[0;31mNameError\u001b[0m                                 Traceback (most recent call last)",
            "Cell \u001b[0;32mIn[33], line 8\u001b[0m\n\u001b[1;32m      5\u001b[0m closest_point_lon \u001b[38;5;241m=\u001b[39m \u001b[38;5;241m-\u001b[39m\u001b[38;5;241m80.577\u001b[39m\n\u001b[1;32m      7\u001b[0m \u001b[38;5;66;03m# Calculate distance between launch site and closest point\u001b[39;00m\n\u001b[0;32m----> 8\u001b[0m distance_closest_point \u001b[38;5;241m=\u001b[39m calculate_distance(\u001b[43mlaunch_site_lat\u001b[49m, launch_site_lon, closest_point_lat, closest_point_lon)\n\u001b[1;32m     10\u001b[0m \u001b[38;5;66;03m# Create a marker for the closest point with the distance displayed\u001b[39;00m\n\u001b[1;32m     11\u001b[0m closest_point_marker \u001b[38;5;241m=\u001b[39m folium\u001b[38;5;241m.\u001b[39mMarker(\n\u001b[1;32m     12\u001b[0m     [closest_point_lat, closest_point_lon],\n\u001b[1;32m     13\u001b[0m     icon\u001b[38;5;241m=\u001b[39mfolium\u001b[38;5;241m.\u001b[39mDivIcon(\n\u001b[0;32m   (...)\u001b[0m\n\u001b[1;32m     17\u001b[0m     )\n\u001b[1;32m     18\u001b[0m )\n",
            "\u001b[0;31mNameError\u001b[0m: name 'launch_site_lat' is not defined"
          ],
          "output_type": "error"
        }
      ],
      "execution_count": 33
    },
    {
      "cell_type": "code",
      "source": "",
      "metadata": {},
      "outputs": [],
      "execution_count": null
    },
    {
      "cell_type": "code",
      "source": "",
      "metadata": {},
      "outputs": [],
      "execution_count": null
    },
    {
      "cell_type": "markdown",
      "source": "After you plot distance lines to the proximities, you can answer the following questions easily:\n\n*   Are launch sites in close proximity to railways?\n*   Are launch sites in close proximity to highways?\n*   Are launch sites in close proximity to coastline?\n*   Do launch sites keep certain distance away from cities?\n\nAlso please try to explain your findings.\n",
      "metadata": {}
    },
    {
      "cell_type": "markdown",
      "source": "# Next Steps:\n\nNow you have discovered many interesting insights related to the launch sites' location using folium, in a very interactive way. Next, you will need to build a dashboard using Ploty Dash on detailed launch records.\n",
      "metadata": {}
    },
    {
      "cell_type": "markdown",
      "source": "## Authors\n",
      "metadata": {}
    },
    {
      "cell_type": "markdown",
      "source": "[Pratiksha Verma](https://www.linkedin.com/in/pratiksha-verma-6487561b1/?utm_medium=Exinfluencer&utm_source=Exinfluencer&utm_content=000026UJ&utm_term=10006555&utm_id=NA-SkillsNetwork-Channel-SkillsNetworkCoursesIBMDS0321ENSkillsNetwork865-2022-01-01)\n",
      "metadata": {}
    },
    {
      "cell_type": "markdown",
      "source": "## Change Log\n",
      "metadata": {}
    },
    {
      "cell_type": "markdown",
      "source": "| Date (YYYY-MM-DD) | Version | Changed By      | Change Description      |\n| ----------------- | ------- | -------------   | ----------------------- |\n| 2022-11-09        | 1.0     | Pratiksha Verma | Converted initial version to Jupyterlite|\n",
      "metadata": {}
    },
    {
      "cell_type": "markdown",
      "source": "### <h3 align=\"center\"> IBM Corporation 2022. All rights reserved. <h3/>\n",
      "metadata": {}
    }
  ]
}